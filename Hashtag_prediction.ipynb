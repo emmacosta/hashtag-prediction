{
  "nbformat": 4,
  "nbformat_minor": 0,
  "metadata": {
    "colab": {
      "name": "Hashtag prediction.ipynb",
      "provenance": [],
      "collapsed_sections": []
    },
    "kernelspec": {
      "name": "python3",
      "display_name": "Python 3"
    },
    "language_info": {
      "name": "python"
    },
    "widgets": {
      "application/vnd.jupyter.widget-state+json": {
        "9da9a571000348d796b49332c9a56503": {
          "model_module": "@jupyter-widgets/controls",
          "model_name": "HBoxModel",
          "model_module_version": "1.5.0",
          "state": {
            "_dom_classes": [],
            "_model_module": "@jupyter-widgets/controls",
            "_model_module_version": "1.5.0",
            "_model_name": "HBoxModel",
            "_view_count": null,
            "_view_module": "@jupyter-widgets/controls",
            "_view_module_version": "1.5.0",
            "_view_name": "HBoxView",
            "box_style": "",
            "children": [
              "IPY_MODEL_332a67afc5c44f3086690c572c91a00d",
              "IPY_MODEL_704050a658c84bbaa08e1f9dd3744d12",
              "IPY_MODEL_7f9d3b11ee974b2a87b8b50109923f3c"
            ],
            "layout": "IPY_MODEL_abcb775ca5d14625aa1f2c69770a0486"
          }
        },
        "332a67afc5c44f3086690c572c91a00d": {
          "model_module": "@jupyter-widgets/controls",
          "model_name": "HTMLModel",
          "model_module_version": "1.5.0",
          "state": {
            "_dom_classes": [],
            "_model_module": "@jupyter-widgets/controls",
            "_model_module_version": "1.5.0",
            "_model_name": "HTMLModel",
            "_view_count": null,
            "_view_module": "@jupyter-widgets/controls",
            "_view_module_version": "1.5.0",
            "_view_name": "HTMLView",
            "description": "",
            "description_tooltip": null,
            "layout": "IPY_MODEL_9463b6b8f7b342f48a23384e4b33dc12",
            "placeholder": "​",
            "style": "IPY_MODEL_ad55a3eb6f0c4e49971aa46954a66a32",
            "value": "Pandas Apply: 100%"
          }
        },
        "704050a658c84bbaa08e1f9dd3744d12": {
          "model_module": "@jupyter-widgets/controls",
          "model_name": "FloatProgressModel",
          "model_module_version": "1.5.0",
          "state": {
            "_dom_classes": [],
            "_model_module": "@jupyter-widgets/controls",
            "_model_module_version": "1.5.0",
            "_model_name": "FloatProgressModel",
            "_view_count": null,
            "_view_module": "@jupyter-widgets/controls",
            "_view_module_version": "1.5.0",
            "_view_name": "ProgressView",
            "bar_style": "success",
            "description": "",
            "description_tooltip": null,
            "layout": "IPY_MODEL_455dd2c2b71240c586dfb4809c9c202d",
            "max": 784546,
            "min": 0,
            "orientation": "horizontal",
            "style": "IPY_MODEL_2d16285b02994ef3ac0cc6e3698e77e5",
            "value": 784546
          }
        },
        "7f9d3b11ee974b2a87b8b50109923f3c": {
          "model_module": "@jupyter-widgets/controls",
          "model_name": "HTMLModel",
          "model_module_version": "1.5.0",
          "state": {
            "_dom_classes": [],
            "_model_module": "@jupyter-widgets/controls",
            "_model_module_version": "1.5.0",
            "_model_name": "HTMLModel",
            "_view_count": null,
            "_view_module": "@jupyter-widgets/controls",
            "_view_module_version": "1.5.0",
            "_view_name": "HTMLView",
            "description": "",
            "description_tooltip": null,
            "layout": "IPY_MODEL_5dfc2d0cc7734a979cf829bacf42ecda",
            "placeholder": "​",
            "style": "IPY_MODEL_78b684a10c3949239331073d1baef568",
            "value": " 784546/784546 [00:21&lt;00:00, 44017.57it/s]"
          }
        },
        "abcb775ca5d14625aa1f2c69770a0486": {
          "model_module": "@jupyter-widgets/base",
          "model_name": "LayoutModel",
          "model_module_version": "1.2.0",
          "state": {
            "_model_module": "@jupyter-widgets/base",
            "_model_module_version": "1.2.0",
            "_model_name": "LayoutModel",
            "_view_count": null,
            "_view_module": "@jupyter-widgets/base",
            "_view_module_version": "1.2.0",
            "_view_name": "LayoutView",
            "align_content": null,
            "align_items": null,
            "align_self": null,
            "border": null,
            "bottom": null,
            "display": null,
            "flex": null,
            "flex_flow": null,
            "grid_area": null,
            "grid_auto_columns": null,
            "grid_auto_flow": null,
            "grid_auto_rows": null,
            "grid_column": null,
            "grid_gap": null,
            "grid_row": null,
            "grid_template_areas": null,
            "grid_template_columns": null,
            "grid_template_rows": null,
            "height": null,
            "justify_content": null,
            "justify_items": null,
            "left": null,
            "margin": null,
            "max_height": null,
            "max_width": null,
            "min_height": null,
            "min_width": null,
            "object_fit": null,
            "object_position": null,
            "order": null,
            "overflow": null,
            "overflow_x": null,
            "overflow_y": null,
            "padding": null,
            "right": null,
            "top": null,
            "visibility": null,
            "width": null
          }
        },
        "9463b6b8f7b342f48a23384e4b33dc12": {
          "model_module": "@jupyter-widgets/base",
          "model_name": "LayoutModel",
          "model_module_version": "1.2.0",
          "state": {
            "_model_module": "@jupyter-widgets/base",
            "_model_module_version": "1.2.0",
            "_model_name": "LayoutModel",
            "_view_count": null,
            "_view_module": "@jupyter-widgets/base",
            "_view_module_version": "1.2.0",
            "_view_name": "LayoutView",
            "align_content": null,
            "align_items": null,
            "align_self": null,
            "border": null,
            "bottom": null,
            "display": null,
            "flex": null,
            "flex_flow": null,
            "grid_area": null,
            "grid_auto_columns": null,
            "grid_auto_flow": null,
            "grid_auto_rows": null,
            "grid_column": null,
            "grid_gap": null,
            "grid_row": null,
            "grid_template_areas": null,
            "grid_template_columns": null,
            "grid_template_rows": null,
            "height": null,
            "justify_content": null,
            "justify_items": null,
            "left": null,
            "margin": null,
            "max_height": null,
            "max_width": null,
            "min_height": null,
            "min_width": null,
            "object_fit": null,
            "object_position": null,
            "order": null,
            "overflow": null,
            "overflow_x": null,
            "overflow_y": null,
            "padding": null,
            "right": null,
            "top": null,
            "visibility": null,
            "width": null
          }
        },
        "ad55a3eb6f0c4e49971aa46954a66a32": {
          "model_module": "@jupyter-widgets/controls",
          "model_name": "DescriptionStyleModel",
          "model_module_version": "1.5.0",
          "state": {
            "_model_module": "@jupyter-widgets/controls",
            "_model_module_version": "1.5.0",
            "_model_name": "DescriptionStyleModel",
            "_view_count": null,
            "_view_module": "@jupyter-widgets/base",
            "_view_module_version": "1.2.0",
            "_view_name": "StyleView",
            "description_width": ""
          }
        },
        "455dd2c2b71240c586dfb4809c9c202d": {
          "model_module": "@jupyter-widgets/base",
          "model_name": "LayoutModel",
          "model_module_version": "1.2.0",
          "state": {
            "_model_module": "@jupyter-widgets/base",
            "_model_module_version": "1.2.0",
            "_model_name": "LayoutModel",
            "_view_count": null,
            "_view_module": "@jupyter-widgets/base",
            "_view_module_version": "1.2.0",
            "_view_name": "LayoutView",
            "align_content": null,
            "align_items": null,
            "align_self": null,
            "border": null,
            "bottom": null,
            "display": null,
            "flex": null,
            "flex_flow": null,
            "grid_area": null,
            "grid_auto_columns": null,
            "grid_auto_flow": null,
            "grid_auto_rows": null,
            "grid_column": null,
            "grid_gap": null,
            "grid_row": null,
            "grid_template_areas": null,
            "grid_template_columns": null,
            "grid_template_rows": null,
            "height": null,
            "justify_content": null,
            "justify_items": null,
            "left": null,
            "margin": null,
            "max_height": null,
            "max_width": null,
            "min_height": null,
            "min_width": null,
            "object_fit": null,
            "object_position": null,
            "order": null,
            "overflow": null,
            "overflow_x": null,
            "overflow_y": null,
            "padding": null,
            "right": null,
            "top": null,
            "visibility": null,
            "width": null
          }
        },
        "2d16285b02994ef3ac0cc6e3698e77e5": {
          "model_module": "@jupyter-widgets/controls",
          "model_name": "ProgressStyleModel",
          "model_module_version": "1.5.0",
          "state": {
            "_model_module": "@jupyter-widgets/controls",
            "_model_module_version": "1.5.0",
            "_model_name": "ProgressStyleModel",
            "_view_count": null,
            "_view_module": "@jupyter-widgets/base",
            "_view_module_version": "1.2.0",
            "_view_name": "StyleView",
            "bar_color": null,
            "description_width": ""
          }
        },
        "5dfc2d0cc7734a979cf829bacf42ecda": {
          "model_module": "@jupyter-widgets/base",
          "model_name": "LayoutModel",
          "model_module_version": "1.2.0",
          "state": {
            "_model_module": "@jupyter-widgets/base",
            "_model_module_version": "1.2.0",
            "_model_name": "LayoutModel",
            "_view_count": null,
            "_view_module": "@jupyter-widgets/base",
            "_view_module_version": "1.2.0",
            "_view_name": "LayoutView",
            "align_content": null,
            "align_items": null,
            "align_self": null,
            "border": null,
            "bottom": null,
            "display": null,
            "flex": null,
            "flex_flow": null,
            "grid_area": null,
            "grid_auto_columns": null,
            "grid_auto_flow": null,
            "grid_auto_rows": null,
            "grid_column": null,
            "grid_gap": null,
            "grid_row": null,
            "grid_template_areas": null,
            "grid_template_columns": null,
            "grid_template_rows": null,
            "height": null,
            "justify_content": null,
            "justify_items": null,
            "left": null,
            "margin": null,
            "max_height": null,
            "max_width": null,
            "min_height": null,
            "min_width": null,
            "object_fit": null,
            "object_position": null,
            "order": null,
            "overflow": null,
            "overflow_x": null,
            "overflow_y": null,
            "padding": null,
            "right": null,
            "top": null,
            "visibility": null,
            "width": null
          }
        },
        "78b684a10c3949239331073d1baef568": {
          "model_module": "@jupyter-widgets/controls",
          "model_name": "DescriptionStyleModel",
          "model_module_version": "1.5.0",
          "state": {
            "_model_module": "@jupyter-widgets/controls",
            "_model_module_version": "1.5.0",
            "_model_name": "DescriptionStyleModel",
            "_view_count": null,
            "_view_module": "@jupyter-widgets/base",
            "_view_module_version": "1.2.0",
            "_view_name": "StyleView",
            "description_width": ""
          }
        },
        "560986455cd74203a72dc586e3f4487c": {
          "model_module": "@jupyter-widgets/controls",
          "model_name": "HBoxModel",
          "model_module_version": "1.5.0",
          "state": {
            "_dom_classes": [],
            "_model_module": "@jupyter-widgets/controls",
            "_model_module_version": "1.5.0",
            "_model_name": "HBoxModel",
            "_view_count": null,
            "_view_module": "@jupyter-widgets/controls",
            "_view_module_version": "1.5.0",
            "_view_name": "HBoxView",
            "box_style": "",
            "children": [
              "IPY_MODEL_da86e40ac46c49dcb7da50f24ce619a0",
              "IPY_MODEL_61c1db36323040ce96bdad568d3f7945",
              "IPY_MODEL_04d3fea4f5c543cb827c6947f480ba18"
            ],
            "layout": "IPY_MODEL_1ce2ff9c103f4a6ca68a463386fea96a"
          }
        },
        "da86e40ac46c49dcb7da50f24ce619a0": {
          "model_module": "@jupyter-widgets/controls",
          "model_name": "HTMLModel",
          "model_module_version": "1.5.0",
          "state": {
            "_dom_classes": [],
            "_model_module": "@jupyter-widgets/controls",
            "_model_module_version": "1.5.0",
            "_model_name": "HTMLModel",
            "_view_count": null,
            "_view_module": "@jupyter-widgets/controls",
            "_view_module_version": "1.5.0",
            "_view_name": "HTMLView",
            "description": "",
            "description_tooltip": null,
            "layout": "IPY_MODEL_aa462ef7d2f0452c88aca998563ec542",
            "placeholder": "​",
            "style": "IPY_MODEL_f03050c383154906bacfe02d011653f0",
            "value": "Pandas Apply: 100%"
          }
        },
        "61c1db36323040ce96bdad568d3f7945": {
          "model_module": "@jupyter-widgets/controls",
          "model_name": "FloatProgressModel",
          "model_module_version": "1.5.0",
          "state": {
            "_dom_classes": [],
            "_model_module": "@jupyter-widgets/controls",
            "_model_module_version": "1.5.0",
            "_model_name": "FloatProgressModel",
            "_view_count": null,
            "_view_module": "@jupyter-widgets/controls",
            "_view_module_version": "1.5.0",
            "_view_name": "ProgressView",
            "bar_style": "success",
            "description": "",
            "description_tooltip": null,
            "layout": "IPY_MODEL_9c9c0fd652ab4283a994aa7eb713829a",
            "max": 784546,
            "min": 0,
            "orientation": "horizontal",
            "style": "IPY_MODEL_3459fa14eb0649a182f708aeaea9ae86",
            "value": 784546
          }
        },
        "04d3fea4f5c543cb827c6947f480ba18": {
          "model_module": "@jupyter-widgets/controls",
          "model_name": "HTMLModel",
          "model_module_version": "1.5.0",
          "state": {
            "_dom_classes": [],
            "_model_module": "@jupyter-widgets/controls",
            "_model_module_version": "1.5.0",
            "_model_name": "HTMLModel",
            "_view_count": null,
            "_view_module": "@jupyter-widgets/controls",
            "_view_module_version": "1.5.0",
            "_view_name": "HTMLView",
            "description": "",
            "description_tooltip": null,
            "layout": "IPY_MODEL_9d0e30c1946b4345ab6fe3019b8aee93",
            "placeholder": "​",
            "style": "IPY_MODEL_8bb0f18ceec54b1fa590a79171bad01b",
            "value": " 784546/784546 [02:26&lt;00:00, 5283.97it/s]"
          }
        },
        "1ce2ff9c103f4a6ca68a463386fea96a": {
          "model_module": "@jupyter-widgets/base",
          "model_name": "LayoutModel",
          "model_module_version": "1.2.0",
          "state": {
            "_model_module": "@jupyter-widgets/base",
            "_model_module_version": "1.2.0",
            "_model_name": "LayoutModel",
            "_view_count": null,
            "_view_module": "@jupyter-widgets/base",
            "_view_module_version": "1.2.0",
            "_view_name": "LayoutView",
            "align_content": null,
            "align_items": null,
            "align_self": null,
            "border": null,
            "bottom": null,
            "display": null,
            "flex": null,
            "flex_flow": null,
            "grid_area": null,
            "grid_auto_columns": null,
            "grid_auto_flow": null,
            "grid_auto_rows": null,
            "grid_column": null,
            "grid_gap": null,
            "grid_row": null,
            "grid_template_areas": null,
            "grid_template_columns": null,
            "grid_template_rows": null,
            "height": null,
            "justify_content": null,
            "justify_items": null,
            "left": null,
            "margin": null,
            "max_height": null,
            "max_width": null,
            "min_height": null,
            "min_width": null,
            "object_fit": null,
            "object_position": null,
            "order": null,
            "overflow": null,
            "overflow_x": null,
            "overflow_y": null,
            "padding": null,
            "right": null,
            "top": null,
            "visibility": null,
            "width": null
          }
        },
        "aa462ef7d2f0452c88aca998563ec542": {
          "model_module": "@jupyter-widgets/base",
          "model_name": "LayoutModel",
          "model_module_version": "1.2.0",
          "state": {
            "_model_module": "@jupyter-widgets/base",
            "_model_module_version": "1.2.0",
            "_model_name": "LayoutModel",
            "_view_count": null,
            "_view_module": "@jupyter-widgets/base",
            "_view_module_version": "1.2.0",
            "_view_name": "LayoutView",
            "align_content": null,
            "align_items": null,
            "align_self": null,
            "border": null,
            "bottom": null,
            "display": null,
            "flex": null,
            "flex_flow": null,
            "grid_area": null,
            "grid_auto_columns": null,
            "grid_auto_flow": null,
            "grid_auto_rows": null,
            "grid_column": null,
            "grid_gap": null,
            "grid_row": null,
            "grid_template_areas": null,
            "grid_template_columns": null,
            "grid_template_rows": null,
            "height": null,
            "justify_content": null,
            "justify_items": null,
            "left": null,
            "margin": null,
            "max_height": null,
            "max_width": null,
            "min_height": null,
            "min_width": null,
            "object_fit": null,
            "object_position": null,
            "order": null,
            "overflow": null,
            "overflow_x": null,
            "overflow_y": null,
            "padding": null,
            "right": null,
            "top": null,
            "visibility": null,
            "width": null
          }
        },
        "f03050c383154906bacfe02d011653f0": {
          "model_module": "@jupyter-widgets/controls",
          "model_name": "DescriptionStyleModel",
          "model_module_version": "1.5.0",
          "state": {
            "_model_module": "@jupyter-widgets/controls",
            "_model_module_version": "1.5.0",
            "_model_name": "DescriptionStyleModel",
            "_view_count": null,
            "_view_module": "@jupyter-widgets/base",
            "_view_module_version": "1.2.0",
            "_view_name": "StyleView",
            "description_width": ""
          }
        },
        "9c9c0fd652ab4283a994aa7eb713829a": {
          "model_module": "@jupyter-widgets/base",
          "model_name": "LayoutModel",
          "model_module_version": "1.2.0",
          "state": {
            "_model_module": "@jupyter-widgets/base",
            "_model_module_version": "1.2.0",
            "_model_name": "LayoutModel",
            "_view_count": null,
            "_view_module": "@jupyter-widgets/base",
            "_view_module_version": "1.2.0",
            "_view_name": "LayoutView",
            "align_content": null,
            "align_items": null,
            "align_self": null,
            "border": null,
            "bottom": null,
            "display": null,
            "flex": null,
            "flex_flow": null,
            "grid_area": null,
            "grid_auto_columns": null,
            "grid_auto_flow": null,
            "grid_auto_rows": null,
            "grid_column": null,
            "grid_gap": null,
            "grid_row": null,
            "grid_template_areas": null,
            "grid_template_columns": null,
            "grid_template_rows": null,
            "height": null,
            "justify_content": null,
            "justify_items": null,
            "left": null,
            "margin": null,
            "max_height": null,
            "max_width": null,
            "min_height": null,
            "min_width": null,
            "object_fit": null,
            "object_position": null,
            "order": null,
            "overflow": null,
            "overflow_x": null,
            "overflow_y": null,
            "padding": null,
            "right": null,
            "top": null,
            "visibility": null,
            "width": null
          }
        },
        "3459fa14eb0649a182f708aeaea9ae86": {
          "model_module": "@jupyter-widgets/controls",
          "model_name": "ProgressStyleModel",
          "model_module_version": "1.5.0",
          "state": {
            "_model_module": "@jupyter-widgets/controls",
            "_model_module_version": "1.5.0",
            "_model_name": "ProgressStyleModel",
            "_view_count": null,
            "_view_module": "@jupyter-widgets/base",
            "_view_module_version": "1.2.0",
            "_view_name": "StyleView",
            "bar_color": null,
            "description_width": ""
          }
        },
        "9d0e30c1946b4345ab6fe3019b8aee93": {
          "model_module": "@jupyter-widgets/base",
          "model_name": "LayoutModel",
          "model_module_version": "1.2.0",
          "state": {
            "_model_module": "@jupyter-widgets/base",
            "_model_module_version": "1.2.0",
            "_model_name": "LayoutModel",
            "_view_count": null,
            "_view_module": "@jupyter-widgets/base",
            "_view_module_version": "1.2.0",
            "_view_name": "LayoutView",
            "align_content": null,
            "align_items": null,
            "align_self": null,
            "border": null,
            "bottom": null,
            "display": null,
            "flex": null,
            "flex_flow": null,
            "grid_area": null,
            "grid_auto_columns": null,
            "grid_auto_flow": null,
            "grid_auto_rows": null,
            "grid_column": null,
            "grid_gap": null,
            "grid_row": null,
            "grid_template_areas": null,
            "grid_template_columns": null,
            "grid_template_rows": null,
            "height": null,
            "justify_content": null,
            "justify_items": null,
            "left": null,
            "margin": null,
            "max_height": null,
            "max_width": null,
            "min_height": null,
            "min_width": null,
            "object_fit": null,
            "object_position": null,
            "order": null,
            "overflow": null,
            "overflow_x": null,
            "overflow_y": null,
            "padding": null,
            "right": null,
            "top": null,
            "visibility": null,
            "width": null
          }
        },
        "8bb0f18ceec54b1fa590a79171bad01b": {
          "model_module": "@jupyter-widgets/controls",
          "model_name": "DescriptionStyleModel",
          "model_module_version": "1.5.0",
          "state": {
            "_model_module": "@jupyter-widgets/controls",
            "_model_module_version": "1.5.0",
            "_model_name": "DescriptionStyleModel",
            "_view_count": null,
            "_view_module": "@jupyter-widgets/base",
            "_view_module_version": "1.2.0",
            "_view_name": "StyleView",
            "description_width": ""
          }
        },
        "a959f0cce8324077bb896eadda2bea66": {
          "model_module": "@jupyter-widgets/controls",
          "model_name": "HBoxModel",
          "model_module_version": "1.5.0",
          "state": {
            "_dom_classes": [],
            "_model_module": "@jupyter-widgets/controls",
            "_model_module_version": "1.5.0",
            "_model_name": "HBoxModel",
            "_view_count": null,
            "_view_module": "@jupyter-widgets/controls",
            "_view_module_version": "1.5.0",
            "_view_name": "HBoxView",
            "box_style": "",
            "children": [
              "IPY_MODEL_bfe50332e2814133a697af94c021d884",
              "IPY_MODEL_d298a00522c24b0691d411ac4296cac6",
              "IPY_MODEL_00c84ca032294416bd9aef32d25cf2fb"
            ],
            "layout": "IPY_MODEL_d433d97abf314a4ab9a6ea483aa19e67"
          }
        },
        "bfe50332e2814133a697af94c021d884": {
          "model_module": "@jupyter-widgets/controls",
          "model_name": "HTMLModel",
          "model_module_version": "1.5.0",
          "state": {
            "_dom_classes": [],
            "_model_module": "@jupyter-widgets/controls",
            "_model_module_version": "1.5.0",
            "_model_name": "HTMLModel",
            "_view_count": null,
            "_view_module": "@jupyter-widgets/controls",
            "_view_module_version": "1.5.0",
            "_view_name": "HTMLView",
            "description": "",
            "description_tooltip": null,
            "layout": "IPY_MODEL_12ac7047e9de4584a6d4004ccd7b6467",
            "placeholder": "​",
            "style": "IPY_MODEL_898bab2d5a6a48f7ae2a8a009899e026",
            "value": "Pandas Apply: 100%"
          }
        },
        "d298a00522c24b0691d411ac4296cac6": {
          "model_module": "@jupyter-widgets/controls",
          "model_name": "FloatProgressModel",
          "model_module_version": "1.5.0",
          "state": {
            "_dom_classes": [],
            "_model_module": "@jupyter-widgets/controls",
            "_model_module_version": "1.5.0",
            "_model_name": "FloatProgressModel",
            "_view_count": null,
            "_view_module": "@jupyter-widgets/controls",
            "_view_module_version": "1.5.0",
            "_view_name": "ProgressView",
            "bar_style": "success",
            "description": "",
            "description_tooltip": null,
            "layout": "IPY_MODEL_9fe1f5802fb1439ab2809d7be779a9fd",
            "max": 784546,
            "min": 0,
            "orientation": "horizontal",
            "style": "IPY_MODEL_ffb5ca9f259449d8bc0874f5b26f5e6b",
            "value": 784546
          }
        },
        "00c84ca032294416bd9aef32d25cf2fb": {
          "model_module": "@jupyter-widgets/controls",
          "model_name": "HTMLModel",
          "model_module_version": "1.5.0",
          "state": {
            "_dom_classes": [],
            "_model_module": "@jupyter-widgets/controls",
            "_model_module_version": "1.5.0",
            "_model_name": "HTMLModel",
            "_view_count": null,
            "_view_module": "@jupyter-widgets/controls",
            "_view_module_version": "1.5.0",
            "_view_name": "HTMLView",
            "description": "",
            "description_tooltip": null,
            "layout": "IPY_MODEL_e1f55ab27f644136b5e8a4b2b30c0b94",
            "placeholder": "​",
            "style": "IPY_MODEL_4595fee133db4c85967c220f9f0e8c06",
            "value": " 784546/784546 [00:06&lt;00:00, 116213.40it/s]"
          }
        },
        "d433d97abf314a4ab9a6ea483aa19e67": {
          "model_module": "@jupyter-widgets/base",
          "model_name": "LayoutModel",
          "model_module_version": "1.2.0",
          "state": {
            "_model_module": "@jupyter-widgets/base",
            "_model_module_version": "1.2.0",
            "_model_name": "LayoutModel",
            "_view_count": null,
            "_view_module": "@jupyter-widgets/base",
            "_view_module_version": "1.2.0",
            "_view_name": "LayoutView",
            "align_content": null,
            "align_items": null,
            "align_self": null,
            "border": null,
            "bottom": null,
            "display": null,
            "flex": null,
            "flex_flow": null,
            "grid_area": null,
            "grid_auto_columns": null,
            "grid_auto_flow": null,
            "grid_auto_rows": null,
            "grid_column": null,
            "grid_gap": null,
            "grid_row": null,
            "grid_template_areas": null,
            "grid_template_columns": null,
            "grid_template_rows": null,
            "height": null,
            "justify_content": null,
            "justify_items": null,
            "left": null,
            "margin": null,
            "max_height": null,
            "max_width": null,
            "min_height": null,
            "min_width": null,
            "object_fit": null,
            "object_position": null,
            "order": null,
            "overflow": null,
            "overflow_x": null,
            "overflow_y": null,
            "padding": null,
            "right": null,
            "top": null,
            "visibility": null,
            "width": null
          }
        },
        "12ac7047e9de4584a6d4004ccd7b6467": {
          "model_module": "@jupyter-widgets/base",
          "model_name": "LayoutModel",
          "model_module_version": "1.2.0",
          "state": {
            "_model_module": "@jupyter-widgets/base",
            "_model_module_version": "1.2.0",
            "_model_name": "LayoutModel",
            "_view_count": null,
            "_view_module": "@jupyter-widgets/base",
            "_view_module_version": "1.2.0",
            "_view_name": "LayoutView",
            "align_content": null,
            "align_items": null,
            "align_self": null,
            "border": null,
            "bottom": null,
            "display": null,
            "flex": null,
            "flex_flow": null,
            "grid_area": null,
            "grid_auto_columns": null,
            "grid_auto_flow": null,
            "grid_auto_rows": null,
            "grid_column": null,
            "grid_gap": null,
            "grid_row": null,
            "grid_template_areas": null,
            "grid_template_columns": null,
            "grid_template_rows": null,
            "height": null,
            "justify_content": null,
            "justify_items": null,
            "left": null,
            "margin": null,
            "max_height": null,
            "max_width": null,
            "min_height": null,
            "min_width": null,
            "object_fit": null,
            "object_position": null,
            "order": null,
            "overflow": null,
            "overflow_x": null,
            "overflow_y": null,
            "padding": null,
            "right": null,
            "top": null,
            "visibility": null,
            "width": null
          }
        },
        "898bab2d5a6a48f7ae2a8a009899e026": {
          "model_module": "@jupyter-widgets/controls",
          "model_name": "DescriptionStyleModel",
          "model_module_version": "1.5.0",
          "state": {
            "_model_module": "@jupyter-widgets/controls",
            "_model_module_version": "1.5.0",
            "_model_name": "DescriptionStyleModel",
            "_view_count": null,
            "_view_module": "@jupyter-widgets/base",
            "_view_module_version": "1.2.0",
            "_view_name": "StyleView",
            "description_width": ""
          }
        },
        "9fe1f5802fb1439ab2809d7be779a9fd": {
          "model_module": "@jupyter-widgets/base",
          "model_name": "LayoutModel",
          "model_module_version": "1.2.0",
          "state": {
            "_model_module": "@jupyter-widgets/base",
            "_model_module_version": "1.2.0",
            "_model_name": "LayoutModel",
            "_view_count": null,
            "_view_module": "@jupyter-widgets/base",
            "_view_module_version": "1.2.0",
            "_view_name": "LayoutView",
            "align_content": null,
            "align_items": null,
            "align_self": null,
            "border": null,
            "bottom": null,
            "display": null,
            "flex": null,
            "flex_flow": null,
            "grid_area": null,
            "grid_auto_columns": null,
            "grid_auto_flow": null,
            "grid_auto_rows": null,
            "grid_column": null,
            "grid_gap": null,
            "grid_row": null,
            "grid_template_areas": null,
            "grid_template_columns": null,
            "grid_template_rows": null,
            "height": null,
            "justify_content": null,
            "justify_items": null,
            "left": null,
            "margin": null,
            "max_height": null,
            "max_width": null,
            "min_height": null,
            "min_width": null,
            "object_fit": null,
            "object_position": null,
            "order": null,
            "overflow": null,
            "overflow_x": null,
            "overflow_y": null,
            "padding": null,
            "right": null,
            "top": null,
            "visibility": null,
            "width": null
          }
        },
        "ffb5ca9f259449d8bc0874f5b26f5e6b": {
          "model_module": "@jupyter-widgets/controls",
          "model_name": "ProgressStyleModel",
          "model_module_version": "1.5.0",
          "state": {
            "_model_module": "@jupyter-widgets/controls",
            "_model_module_version": "1.5.0",
            "_model_name": "ProgressStyleModel",
            "_view_count": null,
            "_view_module": "@jupyter-widgets/base",
            "_view_module_version": "1.2.0",
            "_view_name": "StyleView",
            "bar_color": null,
            "description_width": ""
          }
        },
        "e1f55ab27f644136b5e8a4b2b30c0b94": {
          "model_module": "@jupyter-widgets/base",
          "model_name": "LayoutModel",
          "model_module_version": "1.2.0",
          "state": {
            "_model_module": "@jupyter-widgets/base",
            "_model_module_version": "1.2.0",
            "_model_name": "LayoutModel",
            "_view_count": null,
            "_view_module": "@jupyter-widgets/base",
            "_view_module_version": "1.2.0",
            "_view_name": "LayoutView",
            "align_content": null,
            "align_items": null,
            "align_self": null,
            "border": null,
            "bottom": null,
            "display": null,
            "flex": null,
            "flex_flow": null,
            "grid_area": null,
            "grid_auto_columns": null,
            "grid_auto_flow": null,
            "grid_auto_rows": null,
            "grid_column": null,
            "grid_gap": null,
            "grid_row": null,
            "grid_template_areas": null,
            "grid_template_columns": null,
            "grid_template_rows": null,
            "height": null,
            "justify_content": null,
            "justify_items": null,
            "left": null,
            "margin": null,
            "max_height": null,
            "max_width": null,
            "min_height": null,
            "min_width": null,
            "object_fit": null,
            "object_position": null,
            "order": null,
            "overflow": null,
            "overflow_x": null,
            "overflow_y": null,
            "padding": null,
            "right": null,
            "top": null,
            "visibility": null,
            "width": null
          }
        },
        "4595fee133db4c85967c220f9f0e8c06": {
          "model_module": "@jupyter-widgets/controls",
          "model_name": "DescriptionStyleModel",
          "model_module_version": "1.5.0",
          "state": {
            "_model_module": "@jupyter-widgets/controls",
            "_model_module_version": "1.5.0",
            "_model_name": "DescriptionStyleModel",
            "_view_count": null,
            "_view_module": "@jupyter-widgets/base",
            "_view_module_version": "1.2.0",
            "_view_name": "StyleView",
            "description_width": ""
          }
        },
        "ec6383232e034b308dad5701276fd504": {
          "model_module": "@jupyter-widgets/controls",
          "model_name": "HBoxModel",
          "model_module_version": "1.5.0",
          "state": {
            "_dom_classes": [],
            "_model_module": "@jupyter-widgets/controls",
            "_model_module_version": "1.5.0",
            "_model_name": "HBoxModel",
            "_view_count": null,
            "_view_module": "@jupyter-widgets/controls",
            "_view_module_version": "1.5.0",
            "_view_name": "HBoxView",
            "box_style": "",
            "children": [
              "IPY_MODEL_77d96e0361514debac3c35ad35cff2e1",
              "IPY_MODEL_ccd0c9baf6de4f4797a1c84e3cdaf35d",
              "IPY_MODEL_e6663bb1c7b44868ae3aa7d2a3097069"
            ],
            "layout": "IPY_MODEL_6aa22d4998a9456f959899805afde597"
          }
        },
        "77d96e0361514debac3c35ad35cff2e1": {
          "model_module": "@jupyter-widgets/controls",
          "model_name": "HTMLModel",
          "model_module_version": "1.5.0",
          "state": {
            "_dom_classes": [],
            "_model_module": "@jupyter-widgets/controls",
            "_model_module_version": "1.5.0",
            "_model_name": "HTMLModel",
            "_view_count": null,
            "_view_module": "@jupyter-widgets/controls",
            "_view_module_version": "1.5.0",
            "_view_name": "HTMLView",
            "description": "",
            "description_tooltip": null,
            "layout": "IPY_MODEL_17041eef64744072957514813cfd437c",
            "placeholder": "​",
            "style": "IPY_MODEL_e0313f1b00134df2983705953606dfb7",
            "value": "Pandas Apply: 100%"
          }
        },
        "ccd0c9baf6de4f4797a1c84e3cdaf35d": {
          "model_module": "@jupyter-widgets/controls",
          "model_name": "FloatProgressModel",
          "model_module_version": "1.5.0",
          "state": {
            "_dom_classes": [],
            "_model_module": "@jupyter-widgets/controls",
            "_model_module_version": "1.5.0",
            "_model_name": "FloatProgressModel",
            "_view_count": null,
            "_view_module": "@jupyter-widgets/controls",
            "_view_module_version": "1.5.0",
            "_view_name": "ProgressView",
            "bar_style": "success",
            "description": "",
            "description_tooltip": null,
            "layout": "IPY_MODEL_0e01ca91dfc946f7ada70fc88631294e",
            "max": 784546,
            "min": 0,
            "orientation": "horizontal",
            "style": "IPY_MODEL_8dc81e6b67034536b196e63ae04e66b2",
            "value": 784546
          }
        },
        "e6663bb1c7b44868ae3aa7d2a3097069": {
          "model_module": "@jupyter-widgets/controls",
          "model_name": "HTMLModel",
          "model_module_version": "1.5.0",
          "state": {
            "_dom_classes": [],
            "_model_module": "@jupyter-widgets/controls",
            "_model_module_version": "1.5.0",
            "_model_name": "HTMLModel",
            "_view_count": null,
            "_view_module": "@jupyter-widgets/controls",
            "_view_module_version": "1.5.0",
            "_view_name": "HTMLView",
            "description": "",
            "description_tooltip": null,
            "layout": "IPY_MODEL_08d7fc037cbb4f78beff6ec4aa09d8c1",
            "placeholder": "​",
            "style": "IPY_MODEL_be9c9900768d4db6b9e6555ecf602de6",
            "value": " 784546/784546 [00:03&lt;00:00, 201177.28it/s]"
          }
        },
        "6aa22d4998a9456f959899805afde597": {
          "model_module": "@jupyter-widgets/base",
          "model_name": "LayoutModel",
          "model_module_version": "1.2.0",
          "state": {
            "_model_module": "@jupyter-widgets/base",
            "_model_module_version": "1.2.0",
            "_model_name": "LayoutModel",
            "_view_count": null,
            "_view_module": "@jupyter-widgets/base",
            "_view_module_version": "1.2.0",
            "_view_name": "LayoutView",
            "align_content": null,
            "align_items": null,
            "align_self": null,
            "border": null,
            "bottom": null,
            "display": null,
            "flex": null,
            "flex_flow": null,
            "grid_area": null,
            "grid_auto_columns": null,
            "grid_auto_flow": null,
            "grid_auto_rows": null,
            "grid_column": null,
            "grid_gap": null,
            "grid_row": null,
            "grid_template_areas": null,
            "grid_template_columns": null,
            "grid_template_rows": null,
            "height": null,
            "justify_content": null,
            "justify_items": null,
            "left": null,
            "margin": null,
            "max_height": null,
            "max_width": null,
            "min_height": null,
            "min_width": null,
            "object_fit": null,
            "object_position": null,
            "order": null,
            "overflow": null,
            "overflow_x": null,
            "overflow_y": null,
            "padding": null,
            "right": null,
            "top": null,
            "visibility": null,
            "width": null
          }
        },
        "17041eef64744072957514813cfd437c": {
          "model_module": "@jupyter-widgets/base",
          "model_name": "LayoutModel",
          "model_module_version": "1.2.0",
          "state": {
            "_model_module": "@jupyter-widgets/base",
            "_model_module_version": "1.2.0",
            "_model_name": "LayoutModel",
            "_view_count": null,
            "_view_module": "@jupyter-widgets/base",
            "_view_module_version": "1.2.0",
            "_view_name": "LayoutView",
            "align_content": null,
            "align_items": null,
            "align_self": null,
            "border": null,
            "bottom": null,
            "display": null,
            "flex": null,
            "flex_flow": null,
            "grid_area": null,
            "grid_auto_columns": null,
            "grid_auto_flow": null,
            "grid_auto_rows": null,
            "grid_column": null,
            "grid_gap": null,
            "grid_row": null,
            "grid_template_areas": null,
            "grid_template_columns": null,
            "grid_template_rows": null,
            "height": null,
            "justify_content": null,
            "justify_items": null,
            "left": null,
            "margin": null,
            "max_height": null,
            "max_width": null,
            "min_height": null,
            "min_width": null,
            "object_fit": null,
            "object_position": null,
            "order": null,
            "overflow": null,
            "overflow_x": null,
            "overflow_y": null,
            "padding": null,
            "right": null,
            "top": null,
            "visibility": null,
            "width": null
          }
        },
        "e0313f1b00134df2983705953606dfb7": {
          "model_module": "@jupyter-widgets/controls",
          "model_name": "DescriptionStyleModel",
          "model_module_version": "1.5.0",
          "state": {
            "_model_module": "@jupyter-widgets/controls",
            "_model_module_version": "1.5.0",
            "_model_name": "DescriptionStyleModel",
            "_view_count": null,
            "_view_module": "@jupyter-widgets/base",
            "_view_module_version": "1.2.0",
            "_view_name": "StyleView",
            "description_width": ""
          }
        },
        "0e01ca91dfc946f7ada70fc88631294e": {
          "model_module": "@jupyter-widgets/base",
          "model_name": "LayoutModel",
          "model_module_version": "1.2.0",
          "state": {
            "_model_module": "@jupyter-widgets/base",
            "_model_module_version": "1.2.0",
            "_model_name": "LayoutModel",
            "_view_count": null,
            "_view_module": "@jupyter-widgets/base",
            "_view_module_version": "1.2.0",
            "_view_name": "LayoutView",
            "align_content": null,
            "align_items": null,
            "align_self": null,
            "border": null,
            "bottom": null,
            "display": null,
            "flex": null,
            "flex_flow": null,
            "grid_area": null,
            "grid_auto_columns": null,
            "grid_auto_flow": null,
            "grid_auto_rows": null,
            "grid_column": null,
            "grid_gap": null,
            "grid_row": null,
            "grid_template_areas": null,
            "grid_template_columns": null,
            "grid_template_rows": null,
            "height": null,
            "justify_content": null,
            "justify_items": null,
            "left": null,
            "margin": null,
            "max_height": null,
            "max_width": null,
            "min_height": null,
            "min_width": null,
            "object_fit": null,
            "object_position": null,
            "order": null,
            "overflow": null,
            "overflow_x": null,
            "overflow_y": null,
            "padding": null,
            "right": null,
            "top": null,
            "visibility": null,
            "width": null
          }
        },
        "8dc81e6b67034536b196e63ae04e66b2": {
          "model_module": "@jupyter-widgets/controls",
          "model_name": "ProgressStyleModel",
          "model_module_version": "1.5.0",
          "state": {
            "_model_module": "@jupyter-widgets/controls",
            "_model_module_version": "1.5.0",
            "_model_name": "ProgressStyleModel",
            "_view_count": null,
            "_view_module": "@jupyter-widgets/base",
            "_view_module_version": "1.2.0",
            "_view_name": "StyleView",
            "bar_color": null,
            "description_width": ""
          }
        },
        "08d7fc037cbb4f78beff6ec4aa09d8c1": {
          "model_module": "@jupyter-widgets/base",
          "model_name": "LayoutModel",
          "model_module_version": "1.2.0",
          "state": {
            "_model_module": "@jupyter-widgets/base",
            "_model_module_version": "1.2.0",
            "_model_name": "LayoutModel",
            "_view_count": null,
            "_view_module": "@jupyter-widgets/base",
            "_view_module_version": "1.2.0",
            "_view_name": "LayoutView",
            "align_content": null,
            "align_items": null,
            "align_self": null,
            "border": null,
            "bottom": null,
            "display": null,
            "flex": null,
            "flex_flow": null,
            "grid_area": null,
            "grid_auto_columns": null,
            "grid_auto_flow": null,
            "grid_auto_rows": null,
            "grid_column": null,
            "grid_gap": null,
            "grid_row": null,
            "grid_template_areas": null,
            "grid_template_columns": null,
            "grid_template_rows": null,
            "height": null,
            "justify_content": null,
            "justify_items": null,
            "left": null,
            "margin": null,
            "max_height": null,
            "max_width": null,
            "min_height": null,
            "min_width": null,
            "object_fit": null,
            "object_position": null,
            "order": null,
            "overflow": null,
            "overflow_x": null,
            "overflow_y": null,
            "padding": null,
            "right": null,
            "top": null,
            "visibility": null,
            "width": null
          }
        },
        "be9c9900768d4db6b9e6555ecf602de6": {
          "model_module": "@jupyter-widgets/controls",
          "model_name": "DescriptionStyleModel",
          "model_module_version": "1.5.0",
          "state": {
            "_model_module": "@jupyter-widgets/controls",
            "_model_module_version": "1.5.0",
            "_model_name": "DescriptionStyleModel",
            "_view_count": null,
            "_view_module": "@jupyter-widgets/base",
            "_view_module_version": "1.2.0",
            "_view_name": "StyleView",
            "description_width": ""
          }
        },
        "cf79a166f7bd4b73a547ace31400aa2f": {
          "model_module": "@jupyter-widgets/controls",
          "model_name": "HBoxModel",
          "model_module_version": "1.5.0",
          "state": {
            "_dom_classes": [],
            "_model_module": "@jupyter-widgets/controls",
            "_model_module_version": "1.5.0",
            "_model_name": "HBoxModel",
            "_view_count": null,
            "_view_module": "@jupyter-widgets/controls",
            "_view_module_version": "1.5.0",
            "_view_name": "HBoxView",
            "box_style": "",
            "children": [
              "IPY_MODEL_b8579dfeeaa94b53a5eb5e219948b2a4",
              "IPY_MODEL_4cbf6ff62747464599d8e830c44cb7ef",
              "IPY_MODEL_5301419fb0e64061ba0aae137f71d5a3"
            ],
            "layout": "IPY_MODEL_c35228a9f05743b08e7f4756489ac6a4"
          }
        },
        "b8579dfeeaa94b53a5eb5e219948b2a4": {
          "model_module": "@jupyter-widgets/controls",
          "model_name": "HTMLModel",
          "model_module_version": "1.5.0",
          "state": {
            "_dom_classes": [],
            "_model_module": "@jupyter-widgets/controls",
            "_model_module_version": "1.5.0",
            "_model_name": "HTMLModel",
            "_view_count": null,
            "_view_module": "@jupyter-widgets/controls",
            "_view_module_version": "1.5.0",
            "_view_name": "HTMLView",
            "description": "",
            "description_tooltip": null,
            "layout": "IPY_MODEL_c8906ba267674f599541bcfb8ce54989",
            "placeholder": "​",
            "style": "IPY_MODEL_db68111fda614e668d00e4813276f46a",
            "value": "Pandas Apply: 100%"
          }
        },
        "4cbf6ff62747464599d8e830c44cb7ef": {
          "model_module": "@jupyter-widgets/controls",
          "model_name": "FloatProgressModel",
          "model_module_version": "1.5.0",
          "state": {
            "_dom_classes": [],
            "_model_module": "@jupyter-widgets/controls",
            "_model_module_version": "1.5.0",
            "_model_name": "FloatProgressModel",
            "_view_count": null,
            "_view_module": "@jupyter-widgets/controls",
            "_view_module_version": "1.5.0",
            "_view_name": "ProgressView",
            "bar_style": "success",
            "description": "",
            "description_tooltip": null,
            "layout": "IPY_MODEL_5db2b41a18ba43509dc8a2af2bbb8d0a",
            "max": 784546,
            "min": 0,
            "orientation": "horizontal",
            "style": "IPY_MODEL_6bf102586b4145cbb59c0d9ec24cb35e",
            "value": 784546
          }
        },
        "5301419fb0e64061ba0aae137f71d5a3": {
          "model_module": "@jupyter-widgets/controls",
          "model_name": "HTMLModel",
          "model_module_version": "1.5.0",
          "state": {
            "_dom_classes": [],
            "_model_module": "@jupyter-widgets/controls",
            "_model_module_version": "1.5.0",
            "_model_name": "HTMLModel",
            "_view_count": null,
            "_view_module": "@jupyter-widgets/controls",
            "_view_module_version": "1.5.0",
            "_view_name": "HTMLView",
            "description": "",
            "description_tooltip": null,
            "layout": "IPY_MODEL_6d645d08dced4303b270d06de532220a",
            "placeholder": "​",
            "style": "IPY_MODEL_ecffc0c948d14643a23338f7ec4da8c2",
            "value": " 784546/784546 [03:58&lt;00:00, 3312.62it/s]"
          }
        },
        "c35228a9f05743b08e7f4756489ac6a4": {
          "model_module": "@jupyter-widgets/base",
          "model_name": "LayoutModel",
          "model_module_version": "1.2.0",
          "state": {
            "_model_module": "@jupyter-widgets/base",
            "_model_module_version": "1.2.0",
            "_model_name": "LayoutModel",
            "_view_count": null,
            "_view_module": "@jupyter-widgets/base",
            "_view_module_version": "1.2.0",
            "_view_name": "LayoutView",
            "align_content": null,
            "align_items": null,
            "align_self": null,
            "border": null,
            "bottom": null,
            "display": null,
            "flex": null,
            "flex_flow": null,
            "grid_area": null,
            "grid_auto_columns": null,
            "grid_auto_flow": null,
            "grid_auto_rows": null,
            "grid_column": null,
            "grid_gap": null,
            "grid_row": null,
            "grid_template_areas": null,
            "grid_template_columns": null,
            "grid_template_rows": null,
            "height": null,
            "justify_content": null,
            "justify_items": null,
            "left": null,
            "margin": null,
            "max_height": null,
            "max_width": null,
            "min_height": null,
            "min_width": null,
            "object_fit": null,
            "object_position": null,
            "order": null,
            "overflow": null,
            "overflow_x": null,
            "overflow_y": null,
            "padding": null,
            "right": null,
            "top": null,
            "visibility": null,
            "width": null
          }
        },
        "c8906ba267674f599541bcfb8ce54989": {
          "model_module": "@jupyter-widgets/base",
          "model_name": "LayoutModel",
          "model_module_version": "1.2.0",
          "state": {
            "_model_module": "@jupyter-widgets/base",
            "_model_module_version": "1.2.0",
            "_model_name": "LayoutModel",
            "_view_count": null,
            "_view_module": "@jupyter-widgets/base",
            "_view_module_version": "1.2.0",
            "_view_name": "LayoutView",
            "align_content": null,
            "align_items": null,
            "align_self": null,
            "border": null,
            "bottom": null,
            "display": null,
            "flex": null,
            "flex_flow": null,
            "grid_area": null,
            "grid_auto_columns": null,
            "grid_auto_flow": null,
            "grid_auto_rows": null,
            "grid_column": null,
            "grid_gap": null,
            "grid_row": null,
            "grid_template_areas": null,
            "grid_template_columns": null,
            "grid_template_rows": null,
            "height": null,
            "justify_content": null,
            "justify_items": null,
            "left": null,
            "margin": null,
            "max_height": null,
            "max_width": null,
            "min_height": null,
            "min_width": null,
            "object_fit": null,
            "object_position": null,
            "order": null,
            "overflow": null,
            "overflow_x": null,
            "overflow_y": null,
            "padding": null,
            "right": null,
            "top": null,
            "visibility": null,
            "width": null
          }
        },
        "db68111fda614e668d00e4813276f46a": {
          "model_module": "@jupyter-widgets/controls",
          "model_name": "DescriptionStyleModel",
          "model_module_version": "1.5.0",
          "state": {
            "_model_module": "@jupyter-widgets/controls",
            "_model_module_version": "1.5.0",
            "_model_name": "DescriptionStyleModel",
            "_view_count": null,
            "_view_module": "@jupyter-widgets/base",
            "_view_module_version": "1.2.0",
            "_view_name": "StyleView",
            "description_width": ""
          }
        },
        "5db2b41a18ba43509dc8a2af2bbb8d0a": {
          "model_module": "@jupyter-widgets/base",
          "model_name": "LayoutModel",
          "model_module_version": "1.2.0",
          "state": {
            "_model_module": "@jupyter-widgets/base",
            "_model_module_version": "1.2.0",
            "_model_name": "LayoutModel",
            "_view_count": null,
            "_view_module": "@jupyter-widgets/base",
            "_view_module_version": "1.2.0",
            "_view_name": "LayoutView",
            "align_content": null,
            "align_items": null,
            "align_self": null,
            "border": null,
            "bottom": null,
            "display": null,
            "flex": null,
            "flex_flow": null,
            "grid_area": null,
            "grid_auto_columns": null,
            "grid_auto_flow": null,
            "grid_auto_rows": null,
            "grid_column": null,
            "grid_gap": null,
            "grid_row": null,
            "grid_template_areas": null,
            "grid_template_columns": null,
            "grid_template_rows": null,
            "height": null,
            "justify_content": null,
            "justify_items": null,
            "left": null,
            "margin": null,
            "max_height": null,
            "max_width": null,
            "min_height": null,
            "min_width": null,
            "object_fit": null,
            "object_position": null,
            "order": null,
            "overflow": null,
            "overflow_x": null,
            "overflow_y": null,
            "padding": null,
            "right": null,
            "top": null,
            "visibility": null,
            "width": null
          }
        },
        "6bf102586b4145cbb59c0d9ec24cb35e": {
          "model_module": "@jupyter-widgets/controls",
          "model_name": "ProgressStyleModel",
          "model_module_version": "1.5.0",
          "state": {
            "_model_module": "@jupyter-widgets/controls",
            "_model_module_version": "1.5.0",
            "_model_name": "ProgressStyleModel",
            "_view_count": null,
            "_view_module": "@jupyter-widgets/base",
            "_view_module_version": "1.2.0",
            "_view_name": "StyleView",
            "bar_color": null,
            "description_width": ""
          }
        },
        "6d645d08dced4303b270d06de532220a": {
          "model_module": "@jupyter-widgets/base",
          "model_name": "LayoutModel",
          "model_module_version": "1.2.0",
          "state": {
            "_model_module": "@jupyter-widgets/base",
            "_model_module_version": "1.2.0",
            "_model_name": "LayoutModel",
            "_view_count": null,
            "_view_module": "@jupyter-widgets/base",
            "_view_module_version": "1.2.0",
            "_view_name": "LayoutView",
            "align_content": null,
            "align_items": null,
            "align_self": null,
            "border": null,
            "bottom": null,
            "display": null,
            "flex": null,
            "flex_flow": null,
            "grid_area": null,
            "grid_auto_columns": null,
            "grid_auto_flow": null,
            "grid_auto_rows": null,
            "grid_column": null,
            "grid_gap": null,
            "grid_row": null,
            "grid_template_areas": null,
            "grid_template_columns": null,
            "grid_template_rows": null,
            "height": null,
            "justify_content": null,
            "justify_items": null,
            "left": null,
            "margin": null,
            "max_height": null,
            "max_width": null,
            "min_height": null,
            "min_width": null,
            "object_fit": null,
            "object_position": null,
            "order": null,
            "overflow": null,
            "overflow_x": null,
            "overflow_y": null,
            "padding": null,
            "right": null,
            "top": null,
            "visibility": null,
            "width": null
          }
        },
        "ecffc0c948d14643a23338f7ec4da8c2": {
          "model_module": "@jupyter-widgets/controls",
          "model_name": "DescriptionStyleModel",
          "model_module_version": "1.5.0",
          "state": {
            "_model_module": "@jupyter-widgets/controls",
            "_model_module_version": "1.5.0",
            "_model_name": "DescriptionStyleModel",
            "_view_count": null,
            "_view_module": "@jupyter-widgets/base",
            "_view_module_version": "1.2.0",
            "_view_name": "StyleView",
            "description_width": ""
          }
        }
      }
    },
    "gpuClass": "standard",
    "accelerator": "GPU"
  },
  "cells": [
    {
      "cell_type": "markdown",
      "source": [
        "References:\n",
        "\n",
        "[1] Ukraine conflict twitter dataset: https://www.kaggle.com/datasets/bwandowando/ukraine-russian-crisis-twitter-dataset-1-2-m-rows/code <br>\n",
        "[2] Tweets on Ukraine crisis: https://www.kaggle.com/code/stpeteishii/tweets-on-ukraine-crisis/notebook <br>\n",
        "[3] Generate wordcloud from English tweets: https://www.kaggle.com/code/bwandowando/generate-wordcloud-from-english-tweets <br>\n",
        "[4] Sentiment analysis for tweets on the Ukraine conflict: https://github.com/DoubleGremlin181/Analyzing-Tweets-2022-Russian-Invasion-of-Ukraine/blob/master/Tweets%20-%20Hashtag%20Analysis.ipynb <br>\n",
        "[5] Digit recognition: https://malchiodi.di.unimi.it/archive/deep-learning/deep-learning-tutorial.ipynb <br>\n",
        "[6] Text classification from scratch: https://keras.io/examples/nlp/text_classification_from_scratch/"
      ],
      "metadata": {
        "id": "brT_iTHS5iNe"
      }
    },
    {
      "cell_type": "code",
      "execution_count": 1,
      "metadata": {
        "id": "cadGC5aKLfIz"
      },
      "outputs": [],
      "source": [
        "import numpy as np # linear algebra\n",
        "import pandas as pd # data processing, CSV file I/O\n",
        "pd.options.mode.chained_assignment = None  # default='warn'\n",
        "from tabulate import tabulate\n",
        "import pprint\n",
        "import csv\n",
        "\n",
        "import gc\n",
        "from pathlib import Path \n",
        "\n",
        "import os\n"
      ]
    },
    {
      "cell_type": "markdown",
      "source": [
        "# Setup"
      ],
      "metadata": {
        "id": "ksto9AHGdwx9"
      }
    },
    {
      "cell_type": "code",
      "source": [
        "!pip install -q kaggle\n",
        "\n",
        "os.environ[\"KAGGLE_USERNAME\"] = 'emmacosta10'\n",
        "os.environ[\"KAGGLE_KEY\"] = '7f106f53792aa445c5372df5a7d011a2' \n",
        "\n",
        "print(os.environ['KAGGLE_USERNAME'])\n",
        "print(os.environ['KAGGLE_KEY'])\n"
      ],
      "metadata": {
        "colab": {
          "base_uri": "https://localhost:8080/"
        },
        "id": "k1WinlC4PGZ0",
        "outputId": "100452e9-68cc-4903-b197-238b482baaa8"
      },
      "execution_count": 2,
      "outputs": [
        {
          "output_type": "stream",
          "name": "stdout",
          "text": [
            "emmacosta10\n",
            "7f106f53792aa445c5372df5a7d011a2\n"
          ]
        }
      ]
    },
    {
      "cell_type": "code",
      "source": [
        "# check kaggle API\n",
        "# !kaggle datasets list "
      ],
      "metadata": {
        "id": "rSMRXLGcSdRp"
      },
      "execution_count": 3,
      "outputs": []
    },
    {
      "cell_type": "code",
      "source": [
        "# [1]\n",
        "!kaggle datasets list --user 'BwandoWando'"
      ],
      "metadata": {
        "colab": {
          "base_uri": "https://localhost:8080/"
        },
        "id": "nBW5mUkVZTUP",
        "outputId": "be70fa96-a584-46fe-e9dc-25d22349aa99"
      },
      "execution_count": 4,
      "outputs": [
        {
          "output_type": "stream",
          "name": "stdout",
          "text": [
            "ref                                                            title                                               size  lastUpdated          downloadCount  voteCount  usabilityRating  \n",
            "-------------------------------------------------------------  -------------------------------------------------  -----  -------------------  -------------  ---------  ---------------  \n",
            "bwandowando/cloud-vendors-and-related-tweets-dataset           Cloud Vendors and Related Tweets Dataset (2.14M)   371MB  2022-07-03 10:20:52            111         24  1.0              \n",
            "bwandowando/reddit-rjokes-dataset                              Reddit r/Jokes Dataset (9.2K thrds, 98.4K cmnts)    10MB  2022-06-25 11:32:22            106         21  1.0              \n",
            "bwandowando/robb-elementary-school-shooting-twitter-dataset    Robb Elementary shooting Twitter Dataset (2.74M)   401MB  2022-07-03 03:21:07             67         15  1.0              \n",
            "bwandowando/scientist-rebellion-and-related-tweets-dataset     Scientist Rebellion and Related Tweets (3.31M)     571MB  2022-07-03 09:10:13             18         14  1.0              \n",
            "bwandowando/ukraine-russian-crisis-twitter-dataset-1-2-m-rows  Ukraine Conflict Twitter Dataset (43.17M tweets)    10GB  2022-07-04 02:19:01           5592        121  1.0              \n",
            "bwandowando/ukrainesubredditthreadsandcomments                 Reddit r/Ukraine Dataset (36K thrds, 1.18M cmnts)    3GB  2022-06-25 09:21:41            161         27  0.9375           \n",
            "bwandowando/clash-royale-season-18-dec-0320-dataset            Clash Royale S18 Ladder Datasets (37.9M matches)     5GB  2021-01-04 09:22:03            414         24  1.0              \n",
            "bwandowando/ufc-257-poirier-vs-mcgregor-2-tweets               UFC 257: Poirier vs. McGregor II Tweets              7MB  2021-01-30 10:13:20             30          4  1.0              \n"
          ]
        }
      ]
    },
    {
      "cell_type": "code",
      "source": [
        "# Printing dataset files\n",
        "# !kaggle datasets files 'bwandowando/ukraine-russian-crisis-twitter-dataset-1-2-m-rows'"
      ],
      "metadata": {
        "id": "WnhRMbuGcP10"
      },
      "execution_count": 5,
      "outputs": []
    },
    {
      "cell_type": "code",
      "source": [
        "!kaggle datasets download 'bwandowando/ukraine-russian-crisis-twitter-dataset-1-2-m-rows'   -p '/kaggle/working'   "
      ],
      "metadata": {
        "colab": {
          "base_uri": "https://localhost:8080/"
        },
        "id": "ixV2iHsIes4H",
        "outputId": "b73b2585-e9e3-40e7-bf4e-b871a76fd404"
      },
      "execution_count": 6,
      "outputs": [
        {
          "output_type": "stream",
          "name": "stdout",
          "text": [
            "Downloading ukraine-russian-crisis-twitter-dataset-1-2-m-rows.zip to /kaggle/working\n",
            "100% 9.88G/9.89G [01:57<00:00, 120MB/s] \n",
            "100% 9.89G/9.89G [01:57<00:00, 90.5MB/s]\n"
          ]
        }
      ]
    },
    {
      "cell_type": "code",
      "source": [
        "print(os.listdir('/kaggle/working'))\n",
        "print(os.listdir('.'))"
      ],
      "metadata": {
        "colab": {
          "base_uri": "https://localhost:8080/"
        },
        "id": "hY80RqEaaFl-",
        "outputId": "e08ea4fb-b2dd-431d-8c35-5b26dad2fdf8"
      },
      "execution_count": 7,
      "outputs": [
        {
          "output_type": "stream",
          "name": "stdout",
          "text": [
            "['ukraine-russian-crisis-twitter-dataset-1-2-m-rows.zip']\n",
            "['.config', 'sample_data']\n"
          ]
        }
      ]
    },
    {
      "cell_type": "markdown",
      "source": [
        "# Reading the data"
      ],
      "metadata": {
        "id": "2KIs8QBVeTul"
      }
    },
    {
      "cell_type": "code",
      "source": [
        "# Extracting tweets within May\n",
        "import zipfile\n",
        "single_file = '_UkraineCombinedTweetsDeduped.csv.gzip'\n",
        "zip_file = '/kaggle/working/ukraine-russian-crisis-twitter-dataset-1-2-m-rows.zip'\n",
        "\n",
        "with zipfile.ZipFile(zip_file,\"r\") as zip_ref:\n",
        "    zip_ref.extract('0505_to_0507_UkraineCombinedTweetsDeduped.csv.gzip', '/kaggle/working')\n",
        "  \n",
        "        \n",
        "for i in range(501, 532):\n",
        "   with zipfile.ZipFile(zip_file,\"r\") as zip_ref:\n",
        "     try:\n",
        "        zip_ref.extract('0' + str(i) + single_file, '/kaggle/working')\n",
        "     except:\n",
        "        continue"
      ],
      "metadata": {
        "id": "fHO4yWGDFHLD"
      },
      "execution_count": 8,
      "outputs": []
    },
    {
      "cell_type": "code",
      "source": [
        "# Removing compressed file\n",
        "os.remove(\"/kaggle/working/ukraine-russian-crisis-twitter-dataset-1-2-m-rows.zip\")"
      ],
      "metadata": {
        "id": "QpokFaYNIpMs"
      },
      "execution_count": 9,
      "outputs": []
    },
    {
      "cell_type": "code",
      "source": [
        "csvs = []\n",
        "for dirname, _, filenames in os.walk('/kaggle/working'):\n",
        "    filenames.sort()\n",
        "    for filename in filenames:\n",
        "        print(filename)\n",
        "        fullpath = os.path.join(dirname, filename)\n",
        "        csvs.append(fullpath)"
      ],
      "metadata": {
        "colab": {
          "base_uri": "https://localhost:8080/"
        },
        "id": "LlM71bpbI-Ya",
        "outputId": "cc7c7a56-c499-445a-cef0-3d48c1007ce0"
      },
      "execution_count": 10,
      "outputs": [
        {
          "output_type": "stream",
          "name": "stdout",
          "text": [
            "0501_UkraineCombinedTweetsDeduped.csv.gzip\n",
            "0502_UkraineCombinedTweetsDeduped.csv.gzip\n",
            "0503_UkraineCombinedTweetsDeduped.csv.gzip\n",
            "0504_UkraineCombinedTweetsDeduped.csv.gzip\n",
            "0505_to_0507_UkraineCombinedTweetsDeduped.csv.gzip\n",
            "0508_UkraineCombinedTweetsDeduped.csv.gzip\n",
            "0509_UkraineCombinedTweetsDeduped.csv.gzip\n",
            "0510_UkraineCombinedTweetsDeduped.csv.gzip\n",
            "0511_UkraineCombinedTweetsDeduped.csv.gzip\n",
            "0512_UkraineCombinedTweetsDeduped.csv.gzip\n",
            "0513_UkraineCombinedTweetsDeduped.csv.gzip\n",
            "0514_UkraineCombinedTweetsDeduped.csv.gzip\n",
            "0515_UkraineCombinedTweetsDeduped.csv.gzip\n",
            "0516_UkraineCombinedTweetsDeduped.csv.gzip\n",
            "0517_UkraineCombinedTweetsDeduped.csv.gzip\n",
            "0518_UkraineCombinedTweetsDeduped.csv.gzip\n",
            "0519_UkraineCombinedTweetsDeduped.csv.gzip\n",
            "0520_UkraineCombinedTweetsDeduped.csv.gzip\n",
            "0521_UkraineCombinedTweetsDeduped.csv.gzip\n",
            "0522_UkraineCombinedTweetsDeduped.csv.gzip\n",
            "0523_UkraineCombinedTweetsDeduped.csv.gzip\n",
            "0524_UkraineCombinedTweetsDeduped.csv.gzip\n",
            "0525_UkraineCombinedTweetsDeduped.csv.gzip\n",
            "0526_UkraineCombinedTweetsDeduped.csv.gzip\n",
            "0527_UkraineCombinedTweetsDeduped.csv.gzip\n",
            "0528_UkraineCombinedTweetsDeduped.csv.gzip\n",
            "0529_UkraineCombinedTweetsDeduped.csv.gzip\n",
            "0530_UkraineCombinedTweetsDeduped.csv.gzip\n",
            "0531_UkraineCombinedTweetsDeduped.csv.gzip\n"
          ]
        }
      ]
    },
    {
      "cell_type": "markdown",
      "source": [
        "# Creating, filtering and transforming the dataframe"
      ],
      "metadata": {
        "id": "IwnibKiAenSa"
      }
    },
    {
      "cell_type": "code",
      "source": [
        "# Keep only relevant columns\n",
        "# Consolidate the data in a single dataframe\n",
        "\n",
        "columns = [\"tweetid\",\"hashtags\",\"text\",\"language\",\"is_retweet\"]\n",
        "\n",
        "csvs.sort()\n",
        "dfs = pd.read_csv(csvs[0], engine='python', compression='gzip',encoding='utf-8', quoting=csv.QUOTE_ALL)\n",
        "dfs = dfs[columns] \n",
        "     \n",
        "for csvfile in csvs[1:]:\n",
        "    df = pd.read_csv(csvfile, engine='python', compression='gzip',encoding='utf-8', quoting=csv.QUOTE_ALL)\n",
        "    df = df[columns]\n",
        "     \n",
        "    dfs=pd.concat([dfs,df] ,ignore_index=True)\n",
        "    print(Path(csvfile).name + \" \" + str(len(df)) + \" rows\")\n",
        "    print(\"Accumulated \"  + str(len(dfs)) + \" rows\")  \n",
        "\n",
        "\n",
        "df = None\n",
        "del df\n",
        "gc.collect()\n",
        "\n"
      ],
      "metadata": {
        "colab": {
          "base_uri": "https://localhost:8080/"
        },
        "id": "gWQ7lpOMJ1Gd",
        "outputId": "febd4864-6bed-43b3-8e07-c3625394943a"
      },
      "execution_count": 11,
      "outputs": [
        {
          "output_type": "stream",
          "name": "stdout",
          "text": [
            "0502_UkraineCombinedTweetsDeduped.csv.gzip 329516 rows\n",
            "Accumulated 681403 rows\n",
            "0503_UkraineCombinedTweetsDeduped.csv.gzip 307057 rows\n",
            "Accumulated 988460 rows\n",
            "0504_UkraineCombinedTweetsDeduped.csv.gzip 384278 rows\n",
            "Accumulated 1372738 rows\n",
            "0505_to_0507_UkraineCombinedTweetsDeduped.csv.gzip 1046236 rows\n",
            "Accumulated 2418974 rows\n",
            "0508_UkraineCombinedTweetsDeduped.csv.gzip 371726 rows\n",
            "Accumulated 2790700 rows\n",
            "0509_UkraineCombinedTweetsDeduped.csv.gzip 399145 rows\n",
            "Accumulated 3189845 rows\n",
            "0510_UkraineCombinedTweetsDeduped.csv.gzip 352564 rows\n",
            "Accumulated 3542409 rows\n",
            "0511_UkraineCombinedTweetsDeduped.csv.gzip 310075 rows\n",
            "Accumulated 3852484 rows\n",
            "0512_UkraineCombinedTweetsDeduped.csv.gzip 302490 rows\n",
            "Accumulated 4154974 rows\n",
            "0513_UkraineCombinedTweetsDeduped.csv.gzip 280219 rows\n",
            "Accumulated 4435193 rows\n",
            "0514_UkraineCombinedTweetsDeduped.csv.gzip 326229 rows\n",
            "Accumulated 4761422 rows\n",
            "0515_UkraineCombinedTweetsDeduped.csv.gzip 420237 rows\n",
            "Accumulated 5181659 rows\n",
            "0516_UkraineCombinedTweetsDeduped.csv.gzip 387912 rows\n",
            "Accumulated 5569571 rows\n",
            "0517_UkraineCombinedTweetsDeduped.csv.gzip 337868 rows\n",
            "Accumulated 5907439 rows\n",
            "0518_UkraineCombinedTweetsDeduped.csv.gzip 319210 rows\n",
            "Accumulated 6226649 rows\n",
            "0519_UkraineCombinedTweetsDeduped.csv.gzip 272231 rows\n",
            "Accumulated 6498880 rows\n",
            "0520_UkraineCombinedTweetsDeduped.csv.gzip 229813 rows\n",
            "Accumulated 6728693 rows\n",
            "0521_UkraineCombinedTweetsDeduped.csv.gzip 211623 rows\n",
            "Accumulated 6940316 rows\n",
            "0522_UkraineCombinedTweetsDeduped.csv.gzip 197877 rows\n",
            "Accumulated 7138193 rows\n",
            "0523_UkraineCombinedTweetsDeduped.csv.gzip 245001 rows\n",
            "Accumulated 7383194 rows\n",
            "0524_UkraineCombinedTweetsDeduped.csv.gzip 246600 rows\n",
            "Accumulated 7629794 rows\n",
            "0525_UkraineCombinedTweetsDeduped.csv.gzip 231699 rows\n",
            "Accumulated 7861493 rows\n",
            "0526_UkraineCombinedTweetsDeduped.csv.gzip 218506 rows\n",
            "Accumulated 8079999 rows\n",
            "0527_UkraineCombinedTweetsDeduped.csv.gzip 238287 rows\n",
            "Accumulated 8318286 rows\n",
            "0528_UkraineCombinedTweetsDeduped.csv.gzip 229633 rows\n",
            "Accumulated 8547919 rows\n",
            "0529_UkraineCombinedTweetsDeduped.csv.gzip 219914 rows\n",
            "Accumulated 8767833 rows\n",
            "0530_UkraineCombinedTweetsDeduped.csv.gzip 233967 rows\n",
            "Accumulated 9001800 rows\n",
            "0531_UkraineCombinedTweetsDeduped.csv.gzip 217926 rows\n",
            "Accumulated 9219726 rows\n"
          ]
        },
        {
          "output_type": "execute_result",
          "data": {
            "text/plain": [
              "33"
            ]
          },
          "metadata": {},
          "execution_count": 11
        }
      ]
    },
    {
      "cell_type": "code",
      "source": [
        "dfs.head()"
      ],
      "metadata": {
        "colab": {
          "base_uri": "https://localhost:8080/",
          "height": 206
        },
        "id": "qH84VNMKUlWD",
        "outputId": "48d4dcfe-b7b9-4ab5-f3b5-be405c67884b"
      },
      "execution_count": 12,
      "outputs": [
        {
          "output_type": "execute_result",
          "data": {
            "text/plain": [
              "               tweetid                                           hashtags  \\\n",
              "0  1520553587276795905  [{'text': 'StopRussianOil', 'indices': [245, 2...   \n",
              "1  1520553587490926594                                                 []   \n",
              "2  1520553587763515392  [{'text': 'Politics', 'indices': [51, 60]}, {'...   \n",
              "3  1520553587939676160          [{'text': 'Tigray', 'indices': [28, 35]}]   \n",
              "4  1520553588086525952  [{'text': 'Russia', 'indices': [0, 7]}, {'text...   \n",
              "\n",
              "                                                text language  is_retweet  \n",
              "0  Remember this 👇 image next time you fix a meal...       en       False  \n",
              "1  🇺🇦 Збройні Сили України продовжують повертати ...       uk        True  \n",
              "2  Everything Is [Not] Fine: Half-.. - via @pensi...       en       False  \n",
              "3  People #Tigray lives in condition of No water,...       en        True  \n",
              "4  #Russia’s forces have stolen “several hundred ...       en       False  "
            ],
            "text/html": [
              "\n",
              "  <div id=\"df-677862cc-b1be-4736-9661-505a7f60e499\">\n",
              "    <div class=\"colab-df-container\">\n",
              "      <div>\n",
              "<style scoped>\n",
              "    .dataframe tbody tr th:only-of-type {\n",
              "        vertical-align: middle;\n",
              "    }\n",
              "\n",
              "    .dataframe tbody tr th {\n",
              "        vertical-align: top;\n",
              "    }\n",
              "\n",
              "    .dataframe thead th {\n",
              "        text-align: right;\n",
              "    }\n",
              "</style>\n",
              "<table border=\"1\" class=\"dataframe\">\n",
              "  <thead>\n",
              "    <tr style=\"text-align: right;\">\n",
              "      <th></th>\n",
              "      <th>tweetid</th>\n",
              "      <th>hashtags</th>\n",
              "      <th>text</th>\n",
              "      <th>language</th>\n",
              "      <th>is_retweet</th>\n",
              "    </tr>\n",
              "  </thead>\n",
              "  <tbody>\n",
              "    <tr>\n",
              "      <th>0</th>\n",
              "      <td>1520553587276795905</td>\n",
              "      <td>[{'text': 'StopRussianOil', 'indices': [245, 2...</td>\n",
              "      <td>Remember this 👇 image next time you fix a meal...</td>\n",
              "      <td>en</td>\n",
              "      <td>False</td>\n",
              "    </tr>\n",
              "    <tr>\n",
              "      <th>1</th>\n",
              "      <td>1520553587490926594</td>\n",
              "      <td>[]</td>\n",
              "      <td>🇺🇦 Збройні Сили України продовжують повертати ...</td>\n",
              "      <td>uk</td>\n",
              "      <td>True</td>\n",
              "    </tr>\n",
              "    <tr>\n",
              "      <th>2</th>\n",
              "      <td>1520553587763515392</td>\n",
              "      <td>[{'text': 'Politics', 'indices': [51, 60]}, {'...</td>\n",
              "      <td>Everything Is [Not] Fine: Half-.. - via @pensi...</td>\n",
              "      <td>en</td>\n",
              "      <td>False</td>\n",
              "    </tr>\n",
              "    <tr>\n",
              "      <th>3</th>\n",
              "      <td>1520553587939676160</td>\n",
              "      <td>[{'text': 'Tigray', 'indices': [28, 35]}]</td>\n",
              "      <td>People #Tigray lives in condition of No water,...</td>\n",
              "      <td>en</td>\n",
              "      <td>True</td>\n",
              "    </tr>\n",
              "    <tr>\n",
              "      <th>4</th>\n",
              "      <td>1520553588086525952</td>\n",
              "      <td>[{'text': 'Russia', 'indices': [0, 7]}, {'text...</td>\n",
              "      <td>#Russia’s forces have stolen “several hundred ...</td>\n",
              "      <td>en</td>\n",
              "      <td>False</td>\n",
              "    </tr>\n",
              "  </tbody>\n",
              "</table>\n",
              "</div>\n",
              "      <button class=\"colab-df-convert\" onclick=\"convertToInteractive('df-677862cc-b1be-4736-9661-505a7f60e499')\"\n",
              "              title=\"Convert this dataframe to an interactive table.\"\n",
              "              style=\"display:none;\">\n",
              "        \n",
              "  <svg xmlns=\"http://www.w3.org/2000/svg\" height=\"24px\"viewBox=\"0 0 24 24\"\n",
              "       width=\"24px\">\n",
              "    <path d=\"M0 0h24v24H0V0z\" fill=\"none\"/>\n",
              "    <path d=\"M18.56 5.44l.94 2.06.94-2.06 2.06-.94-2.06-.94-.94-2.06-.94 2.06-2.06.94zm-11 1L8.5 8.5l.94-2.06 2.06-.94-2.06-.94L8.5 2.5l-.94 2.06-2.06.94zm10 10l.94 2.06.94-2.06 2.06-.94-2.06-.94-.94-2.06-.94 2.06-2.06.94z\"/><path d=\"M17.41 7.96l-1.37-1.37c-.4-.4-.92-.59-1.43-.59-.52 0-1.04.2-1.43.59L10.3 9.45l-7.72 7.72c-.78.78-.78 2.05 0 2.83L4 21.41c.39.39.9.59 1.41.59.51 0 1.02-.2 1.41-.59l7.78-7.78 2.81-2.81c.8-.78.8-2.07 0-2.86zM5.41 20L4 18.59l7.72-7.72 1.47 1.35L5.41 20z\"/>\n",
              "  </svg>\n",
              "      </button>\n",
              "      \n",
              "  <style>\n",
              "    .colab-df-container {\n",
              "      display:flex;\n",
              "      flex-wrap:wrap;\n",
              "      gap: 12px;\n",
              "    }\n",
              "\n",
              "    .colab-df-convert {\n",
              "      background-color: #E8F0FE;\n",
              "      border: none;\n",
              "      border-radius: 50%;\n",
              "      cursor: pointer;\n",
              "      display: none;\n",
              "      fill: #1967D2;\n",
              "      height: 32px;\n",
              "      padding: 0 0 0 0;\n",
              "      width: 32px;\n",
              "    }\n",
              "\n",
              "    .colab-df-convert:hover {\n",
              "      background-color: #E2EBFA;\n",
              "      box-shadow: 0px 1px 2px rgba(60, 64, 67, 0.3), 0px 1px 3px 1px rgba(60, 64, 67, 0.15);\n",
              "      fill: #174EA6;\n",
              "    }\n",
              "\n",
              "    [theme=dark] .colab-df-convert {\n",
              "      background-color: #3B4455;\n",
              "      fill: #D2E3FC;\n",
              "    }\n",
              "\n",
              "    [theme=dark] .colab-df-convert:hover {\n",
              "      background-color: #434B5C;\n",
              "      box-shadow: 0px 1px 3px 1px rgba(0, 0, 0, 0.15);\n",
              "      filter: drop-shadow(0px 1px 2px rgba(0, 0, 0, 0.3));\n",
              "      fill: #FFFFFF;\n",
              "    }\n",
              "  </style>\n",
              "\n",
              "      <script>\n",
              "        const buttonEl =\n",
              "          document.querySelector('#df-677862cc-b1be-4736-9661-505a7f60e499 button.colab-df-convert');\n",
              "        buttonEl.style.display =\n",
              "          google.colab.kernel.accessAllowed ? 'block' : 'none';\n",
              "\n",
              "        async function convertToInteractive(key) {\n",
              "          const element = document.querySelector('#df-677862cc-b1be-4736-9661-505a7f60e499');\n",
              "          const dataTable =\n",
              "            await google.colab.kernel.invokeFunction('convertToInteractive',\n",
              "                                                     [key], {});\n",
              "          if (!dataTable) return;\n",
              "\n",
              "          const docLinkHtml = 'Like what you see? Visit the ' +\n",
              "            '<a target=\"_blank\" href=https://colab.research.google.com/notebooks/data_table.ipynb>data table notebook</a>'\n",
              "            + ' to learn more about interactive tables.';\n",
              "          element.innerHTML = '';\n",
              "          dataTable['output_type'] = 'display_data';\n",
              "          await google.colab.output.renderOutput(dataTable, element);\n",
              "          const docLink = document.createElement('div');\n",
              "          docLink.innerHTML = docLinkHtml;\n",
              "          element.appendChild(docLink);\n",
              "        }\n",
              "      </script>\n",
              "    </div>\n",
              "  </div>\n",
              "  "
            ]
          },
          "metadata": {},
          "execution_count": 12
        }
      ]
    },
    {
      "cell_type": "code",
      "source": [
        "print(dfs.columns) "
      ],
      "metadata": {
        "colab": {
          "base_uri": "https://localhost:8080/"
        },
        "id": "og9DW2DVLmZJ",
        "outputId": "ec405f61-3ede-40cc-d61d-08fc91ae6c76"
      },
      "execution_count": 13,
      "outputs": [
        {
          "output_type": "stream",
          "name": "stdout",
          "text": [
            "Index(['tweetid', 'hashtags', 'text', 'language', 'is_retweet'], dtype='object')\n"
          ]
        }
      ]
    },
    {
      "cell_type": "code",
      "source": [
        "# Filtering to find only tweets in English\n",
        "\n",
        "df_en=dfs[dfs['language']=='en']\n",
        "\n",
        "str(len(df_en))"
      ],
      "metadata": {
        "colab": {
          "base_uri": "https://localhost:8080/",
          "height": 35
        },
        "outputId": "a1aa0d4f-6b72-4189-beef-dfc90e71a287",
        "id": "GUCPftQARJrX"
      },
      "execution_count": 14,
      "outputs": [
        {
          "output_type": "execute_result",
          "data": {
            "text/plain": [
              "'6133758'"
            ],
            "application/vnd.google.colaboratory.intrinsic+json": {
              "type": "string"
            }
          },
          "metadata": {},
          "execution_count": 14
        }
      ]
    },
    {
      "cell_type": "code",
      "source": [
        "# Filtering to drop tweets without hashtag\n",
        "\n",
        "df_ht=df_en[df_en['hashtags']!='[]']\n",
        "\n",
        "str(len(df_ht))"
      ],
      "metadata": {
        "colab": {
          "base_uri": "https://localhost:8080/",
          "height": 35
        },
        "id": "54YyB-WuR8TA",
        "outputId": "10915db7-6b51-44d8-ca35-c8c57d91b104"
      },
      "execution_count": 15,
      "outputs": [
        {
          "output_type": "execute_result",
          "data": {
            "text/plain": [
              "'5222720'"
            ],
            "application/vnd.google.colaboratory.intrinsic+json": {
              "type": "string"
            }
          },
          "metadata": {},
          "execution_count": 15
        }
      ]
    },
    {
      "cell_type": "code",
      "source": [
        "# Filtering to leave out retweets\n",
        "\n",
        "df_nort=df_ht[df_ht['is_retweet']==False]\n",
        "\n",
        "\n",
        "str(len(df_nort))"
      ],
      "metadata": {
        "colab": {
          "base_uri": "https://localhost:8080/",
          "height": 35
        },
        "id": "U0Xw4VMpSz4f",
        "outputId": "dfd0adc6-df3b-4dff-e81f-10f9f9fe7b6c"
      },
      "execution_count": 16,
      "outputs": [
        {
          "output_type": "execute_result",
          "data": {
            "text/plain": [
              "'1885176'"
            ],
            "application/vnd.google.colaboratory.intrinsic+json": {
              "type": "string"
            }
          },
          "metadata": {},
          "execution_count": 16
        }
      ]
    },
    {
      "cell_type": "code",
      "source": [
        "pd.options.display.max_colwidth = 170\n",
        "df_nort[0:5].hashtags"
      ],
      "metadata": {
        "colab": {
          "base_uri": "https://localhost:8080/"
        },
        "id": "1HJAm4V5UGkI",
        "outputId": "ac6ec49b-40de-4329-d51c-73dcc995f3ca"
      },
      "execution_count": 17,
      "outputs": [
        {
          "output_type": "execute_result",
          "data": {
            "text/plain": [
              "0                                                                         [{'text': 'StopRussianOil', 'indices': [245, 260]}, {'text': 'StopRussiaNow', 'indices': [262, 276]}]\n",
              "2       [{'text': 'Politics', 'indices': [51, 60]}, {'text': 'Art', 'indices': [61, 65]}, {'text': 'Trump', 'indices': [66, 72]}, {'text': 'JerryNelson', 'indices': [73, 85]}]\n",
              "4                                                                                             [{'text': 'Russia', 'indices': [0, 7]}, {'text': 'Ukraine', 'indices': [86, 94]}]\n",
              "18    [{'text': 'Russian', 'indices': [0, 8]}, {'text': 'StandWithUkraine', 'indices': [160, 177]}, {'text': 'UkraineWar', 'indices': [178, 189]}, {'text': 'Russia', 'indic...\n",
              "20    [{'text': 'Ukraine', 'indices': [185, 193]}, {'text': 'Kyiv', 'indices': [194, 199]}, {'text': 'Shelter', 'indices': [200, 208]}, {'text': 'Dogs', 'indices': [209, 21...\n",
              "Name: hashtags, dtype: object"
            ]
          },
          "metadata": {},
          "execution_count": 17
        }
      ]
    },
    {
      "cell_type": "markdown",
      "source": [
        "# Getting first hashtag for each tweet"
      ],
      "metadata": {
        "id": "2SCa0na8e_PN"
      }
    },
    {
      "cell_type": "code",
      "source": [
        "import nltk\n",
        "nltk.download('punkt')\n",
        "from nltk.tokenize import word_tokenize\n",
        "\n",
        "\n",
        "def calculate_first_ht(row):\n",
        "    return word_tokenize(row['hashtags'])[5][1:]\n",
        "\n",
        "\n",
        "df_nort['first_ht']=df_nort.apply(calculate_first_ht, axis=1)"
      ],
      "metadata": {
        "colab": {
          "base_uri": "https://localhost:8080/"
        },
        "id": "5WOusfCl7HAC",
        "outputId": "83da6703-7758-4415-ba96-80056024f978"
      },
      "execution_count": 18,
      "outputs": [
        {
          "output_type": "stream",
          "name": "stderr",
          "text": [
            "[nltk_data] Downloading package punkt to /root/nltk_data...\n",
            "[nltk_data]   Unzipping tokenizers/punkt.zip.\n"
          ]
        }
      ]
    },
    {
      "cell_type": "code",
      "source": [
        "#df_og = df_nort\n",
        "#df_nort[0:10]"
      ],
      "metadata": {
        "id": "nmHksAkl_Xru"
      },
      "execution_count": 19,
      "outputs": []
    },
    {
      "cell_type": "code",
      "source": [
        "columns = [\"tweetid\", \"text\", \"first_ht\"]\n",
        "df_col = df_nort[columns]\n",
        "df_col.head()"
      ],
      "metadata": {
        "colab": {
          "base_uri": "https://localhost:8080/",
          "height": 206
        },
        "id": "sCJtTBrf_X0B",
        "outputId": "ddf248ac-e521-423c-c5fb-992d9311f97d"
      },
      "execution_count": 20,
      "outputs": [
        {
          "output_type": "execute_result",
          "data": {
            "text/plain": [
              "                tweetid  \\\n",
              "0   1520553587276795905   \n",
              "2   1520553587763515392   \n",
              "4   1520553588086525952   \n",
              "18  1520553593430024193   \n",
              "20  1520553593950068736   \n",
              "\n",
              "                                                                                                                                                                         text  \\\n",
              "0   Remember this 👇 image next time you fix a meal for your family.\\n\\nEvery day, Russia sells 700M euro worth of oil and gas to the world. It's your tax money, too.\\n\\nW...   \n",
              "2                                                               Everything Is [Not] Fine: Half-.. - via @pensignal #Politics #Art #Trump #JerryNelson https://t.co/bZodwHyd3W   \n",
              "4   #Russia’s forces have stolen “several hundred thousand tons” of grain in the areas of #Ukraine they occupy, Ukraine’s deputy agriculture minister says.\\n\\nhttps://t.c...   \n",
              "18  #Russian \"killer squad has been linked to vile war crimes against civilians in Bucha—and their own severely injured brothers-in-arms\"\\n\\nhttps://t.co/JQwaX0DBk2\\n\\n#S...   \n",
              "20  Cain is a prominent guy. In all his habits, facial expressions.\\nOur shelter needs your help!\\nRaising funds food for animals.\\nPayPal: dogandcat.helper@gmail.com\\nht...   \n",
              "\n",
              "          first_ht  \n",
              "0   StopRussianOil  \n",
              "2         Politics  \n",
              "4           Russia  \n",
              "18         Russian  \n",
              "20         Ukraine  "
            ],
            "text/html": [
              "\n",
              "  <div id=\"df-715f285c-bb9a-4ddc-a93b-0e1cbcfae025\">\n",
              "    <div class=\"colab-df-container\">\n",
              "      <div>\n",
              "<style scoped>\n",
              "    .dataframe tbody tr th:only-of-type {\n",
              "        vertical-align: middle;\n",
              "    }\n",
              "\n",
              "    .dataframe tbody tr th {\n",
              "        vertical-align: top;\n",
              "    }\n",
              "\n",
              "    .dataframe thead th {\n",
              "        text-align: right;\n",
              "    }\n",
              "</style>\n",
              "<table border=\"1\" class=\"dataframe\">\n",
              "  <thead>\n",
              "    <tr style=\"text-align: right;\">\n",
              "      <th></th>\n",
              "      <th>tweetid</th>\n",
              "      <th>text</th>\n",
              "      <th>first_ht</th>\n",
              "    </tr>\n",
              "  </thead>\n",
              "  <tbody>\n",
              "    <tr>\n",
              "      <th>0</th>\n",
              "      <td>1520553587276795905</td>\n",
              "      <td>Remember this 👇 image next time you fix a meal for your family.\\n\\nEvery day, Russia sells 700M euro worth of oil and gas to the world. It's your tax money, too.\\n\\nW...</td>\n",
              "      <td>StopRussianOil</td>\n",
              "    </tr>\n",
              "    <tr>\n",
              "      <th>2</th>\n",
              "      <td>1520553587763515392</td>\n",
              "      <td>Everything Is [Not] Fine: Half-.. - via @pensignal #Politics #Art #Trump #JerryNelson https://t.co/bZodwHyd3W</td>\n",
              "      <td>Politics</td>\n",
              "    </tr>\n",
              "    <tr>\n",
              "      <th>4</th>\n",
              "      <td>1520553588086525952</td>\n",
              "      <td>#Russia’s forces have stolen “several hundred thousand tons” of grain in the areas of #Ukraine they occupy, Ukraine’s deputy agriculture minister says.\\n\\nhttps://t.c...</td>\n",
              "      <td>Russia</td>\n",
              "    </tr>\n",
              "    <tr>\n",
              "      <th>18</th>\n",
              "      <td>1520553593430024193</td>\n",
              "      <td>#Russian \"killer squad has been linked to vile war crimes against civilians in Bucha—and their own severely injured brothers-in-arms\"\\n\\nhttps://t.co/JQwaX0DBk2\\n\\n#S...</td>\n",
              "      <td>Russian</td>\n",
              "    </tr>\n",
              "    <tr>\n",
              "      <th>20</th>\n",
              "      <td>1520553593950068736</td>\n",
              "      <td>Cain is a prominent guy. In all his habits, facial expressions.\\nOur shelter needs your help!\\nRaising funds food for animals.\\nPayPal: dogandcat.helper@gmail.com\\nht...</td>\n",
              "      <td>Ukraine</td>\n",
              "    </tr>\n",
              "  </tbody>\n",
              "</table>\n",
              "</div>\n",
              "      <button class=\"colab-df-convert\" onclick=\"convertToInteractive('df-715f285c-bb9a-4ddc-a93b-0e1cbcfae025')\"\n",
              "              title=\"Convert this dataframe to an interactive table.\"\n",
              "              style=\"display:none;\">\n",
              "        \n",
              "  <svg xmlns=\"http://www.w3.org/2000/svg\" height=\"24px\"viewBox=\"0 0 24 24\"\n",
              "       width=\"24px\">\n",
              "    <path d=\"M0 0h24v24H0V0z\" fill=\"none\"/>\n",
              "    <path d=\"M18.56 5.44l.94 2.06.94-2.06 2.06-.94-2.06-.94-.94-2.06-.94 2.06-2.06.94zm-11 1L8.5 8.5l.94-2.06 2.06-.94-2.06-.94L8.5 2.5l-.94 2.06-2.06.94zm10 10l.94 2.06.94-2.06 2.06-.94-2.06-.94-.94-2.06-.94 2.06-2.06.94z\"/><path d=\"M17.41 7.96l-1.37-1.37c-.4-.4-.92-.59-1.43-.59-.52 0-1.04.2-1.43.59L10.3 9.45l-7.72 7.72c-.78.78-.78 2.05 0 2.83L4 21.41c.39.39.9.59 1.41.59.51 0 1.02-.2 1.41-.59l7.78-7.78 2.81-2.81c.8-.78.8-2.07 0-2.86zM5.41 20L4 18.59l7.72-7.72 1.47 1.35L5.41 20z\"/>\n",
              "  </svg>\n",
              "      </button>\n",
              "      \n",
              "  <style>\n",
              "    .colab-df-container {\n",
              "      display:flex;\n",
              "      flex-wrap:wrap;\n",
              "      gap: 12px;\n",
              "    }\n",
              "\n",
              "    .colab-df-convert {\n",
              "      background-color: #E8F0FE;\n",
              "      border: none;\n",
              "      border-radius: 50%;\n",
              "      cursor: pointer;\n",
              "      display: none;\n",
              "      fill: #1967D2;\n",
              "      height: 32px;\n",
              "      padding: 0 0 0 0;\n",
              "      width: 32px;\n",
              "    }\n",
              "\n",
              "    .colab-df-convert:hover {\n",
              "      background-color: #E2EBFA;\n",
              "      box-shadow: 0px 1px 2px rgba(60, 64, 67, 0.3), 0px 1px 3px 1px rgba(60, 64, 67, 0.15);\n",
              "      fill: #174EA6;\n",
              "    }\n",
              "\n",
              "    [theme=dark] .colab-df-convert {\n",
              "      background-color: #3B4455;\n",
              "      fill: #D2E3FC;\n",
              "    }\n",
              "\n",
              "    [theme=dark] .colab-df-convert:hover {\n",
              "      background-color: #434B5C;\n",
              "      box-shadow: 0px 1px 3px 1px rgba(0, 0, 0, 0.15);\n",
              "      filter: drop-shadow(0px 1px 2px rgba(0, 0, 0, 0.3));\n",
              "      fill: #FFFFFF;\n",
              "    }\n",
              "  </style>\n",
              "\n",
              "      <script>\n",
              "        const buttonEl =\n",
              "          document.querySelector('#df-715f285c-bb9a-4ddc-a93b-0e1cbcfae025 button.colab-df-convert');\n",
              "        buttonEl.style.display =\n",
              "          google.colab.kernel.accessAllowed ? 'block' : 'none';\n",
              "\n",
              "        async function convertToInteractive(key) {\n",
              "          const element = document.querySelector('#df-715f285c-bb9a-4ddc-a93b-0e1cbcfae025');\n",
              "          const dataTable =\n",
              "            await google.colab.kernel.invokeFunction('convertToInteractive',\n",
              "                                                     [key], {});\n",
              "          if (!dataTable) return;\n",
              "\n",
              "          const docLinkHtml = 'Like what you see? Visit the ' +\n",
              "            '<a target=\"_blank\" href=https://colab.research.google.com/notebooks/data_table.ipynb>data table notebook</a>'\n",
              "            + ' to learn more about interactive tables.';\n",
              "          element.innerHTML = '';\n",
              "          dataTable['output_type'] = 'display_data';\n",
              "          await google.colab.output.renderOutput(dataTable, element);\n",
              "          const docLink = document.createElement('div');\n",
              "          docLink.innerHTML = docLinkHtml;\n",
              "          element.appendChild(docLink);\n",
              "        }\n",
              "      </script>\n",
              "    </div>\n",
              "  </div>\n",
              "  "
            ]
          },
          "metadata": {},
          "execution_count": 20
        }
      ]
    },
    {
      "cell_type": "markdown",
      "source": [
        "# Keeping only tweets with top 20 hashtags as first"
      ],
      "metadata": {
        "id": "tIS1sasAfQ9f"
      }
    },
    {
      "cell_type": "code",
      "source": [
        "%%capture\n",
        "!pip install swifter\n",
        "import swifter\n",
        "\n",
        "# Removing non ASCII characters \n",
        "\n",
        "def strip_non_ascii(string):\n",
        "    ''' Returns the string without non ASCII characters'''\n",
        "    stripped = (c for c in string if 0 < ord(c) < 127)\n",
        "    return ''.join(stripped)\n",
        "\n",
        "df_col.reset_index(drop=True)\n",
        "\n",
        "df_col['first_ht'] = df_col['first_ht'].str.lower()\n",
        "df_col['first_ht'] = df_col['first_ht'].swifter.apply(strip_non_ascii)"
      ],
      "metadata": {
        "id": "0DzCArSKJWHM"
      },
      "execution_count": 21,
      "outputs": []
    },
    {
      "cell_type": "code",
      "source": [
        "# Filtering tweets to keep only those with 20 most popular ones as the first\n",
        "ht_list = (df_col.loc[:,'first_ht'].value_counts()[0:20].keys())\n",
        "\n",
        "df = df_col[df_col['first_ht'].isin(ht_list)] \n",
        "print(\"Most popular hashtags: \" + str(ht_list.values))\n",
        "print(\"\\nDataframe length: \" + str(len(df)))"
      ],
      "metadata": {
        "colab": {
          "base_uri": "https://localhost:8080/"
        },
        "outputId": "cf21773d-c27c-4443-dfa9-c1d5e8f837da",
        "id": "jW1f3hXsAJKy"
      },
      "execution_count": 22,
      "outputs": [
        {
          "output_type": "stream",
          "name": "stdout",
          "text": [
            "Most popular hashtags: ['ukraine' 'news' 'russia' 'business' 'standwithukraine' 'putin' 'usa'\n",
            " 'scotus' 'biden' 'russian' 'freeshipping' 'nato' 'slavaukraini'\n",
            " 'eurovision' 'ukrainerussiawar' 'ukrainewar' 'ukrainian' 'mariupol'\n",
            " 'azovstal' 'hatinc']\n",
            "\n",
            "Dataframe length: 784546\n"
          ]
        }
      ]
    },
    {
      "cell_type": "code",
      "source": [
        "# Create dictonary for result check\n",
        "#print(tabulate(df[0:2], headers='keys', tablefmt='psql'))\n",
        "df_dict =  df.set_index('tweetid').T.to_dict('list')\n",
        "print(list(df_dict.items())[0])"
      ],
      "metadata": {
        "colab": {
          "base_uri": "https://localhost:8080/"
        },
        "id": "3XfwPiM-eTdG",
        "outputId": "1198bfaa-18ed-4a87-f0d2-679f59587268"
      },
      "execution_count": 23,
      "outputs": [
        {
          "output_type": "stream",
          "name": "stderr",
          "text": [
            "/usr/local/lib/python3.7/dist-packages/ipykernel_launcher.py:3: UserWarning: DataFrame columns are not unique, some columns will be omitted.\n",
            "  This is separate from the ipykernel package so we can avoid doing imports until\n"
          ]
        },
        {
          "output_type": "stream",
          "name": "stdout",
          "text": [
            "(1520553588086525952, ['#Russia’s forces have stolen “several hundred thousand tons” of grain in the areas of #Ukraine they occupy, Ukraine’s deputy agriculture minister says.\\n\\nhttps://t.co/9bqEnlF8L2', 'russia'])\n"
          ]
        }
      ]
    },
    {
      "cell_type": "code",
      "source": [
        "# checking if needed\n",
        "#print(df_dict[1520553588086525952][0])\n",
        "#print(df_dict[1520553588086525952][1])"
      ],
      "metadata": {
        "id": "XiXn4jIYe48O"
      },
      "execution_count": 24,
      "outputs": []
    },
    {
      "cell_type": "markdown",
      "source": [
        "# Removing non significant data from the tweets"
      ],
      "metadata": {
        "id": "FkcLdfCGfzx8"
      }
    },
    {
      "cell_type": "code",
      "source": [
        "# Defining functions to remove urls, emojis, etc. See ref. [3]\n",
        "import re\n",
        "from bs4 import BeautifulSoup\n",
        "from html import unescape\n",
        "\n",
        "def remove_urls(x):\n",
        "    cleaned_string = re.sub(r'(https|http)?:\\/\\/(\\w|\\.|\\/|\\?|\\=|\\&|\\%)*\\b', '', str(x), flags=re.MULTILINE)\n",
        "    return cleaned_string\n",
        "\n",
        "def unescape_stuff(x):\n",
        "    soup = BeautifulSoup(unescape(x), 'lxml')\n",
        "    return soup.text\n",
        "\n",
        "def deEmojify(x):\n",
        "    regrex_pattern = re.compile(pattern = \"[\"\n",
        "        u\"\\U0001F600-\\U0001F64F\"  # emoticons\n",
        "        u\"\\U0001F300-\\U0001F5FF\"  # symbols & pictographs\n",
        "        u\"\\U0001F680-\\U0001F6FF\"  # transport & map symbols\n",
        "        u\"\\U0001F1E0-\\U0001F1FF\" \n",
        "        u\"\\U00002500-\\U00002BEF\"  # chinese char\n",
        "        u\"\\U00002702-\\U000027B0\"\n",
        "        u\"\\U00002702-\\U000027B0\"\n",
        "        u\"\\U000024C2-\\U0001F251\"\n",
        "        u\"\\U0001f926-\\U0001f937\"\n",
        "        u\"\\U00010000-\\U0010ffff\"\n",
        "        u\"\\u2640-\\u2642\"\n",
        "        u\"\\u2600-\\u2B55\"\n",
        "        u\"\\u200d\"\n",
        "        u\"\\u23cf\"\n",
        "        u\"\\u23e9\"\n",
        "        u\"\\u231a\"\n",
        "        u\"\\ufe0f\"  # dingbats\n",
        "        u\"\\u3030\" # flags (iOS)\n",
        "        \"]+\", flags = re.UNICODE)\n",
        "    return regrex_pattern.sub(r'', x)"
      ],
      "metadata": {
        "id": "UJiLuesRFmYQ"
      },
      "execution_count": 25,
      "outputs": []
    },
    {
      "cell_type": "code",
      "source": [
        "df['text'] = df['text'].str.lower()\n",
        "df[0:2]"
      ],
      "metadata": {
        "colab": {
          "base_uri": "https://localhost:8080/",
          "height": 112
        },
        "id": "K7AwfKWMF2fa",
        "outputId": "3982e75e-7448-4850-a10e-8ac51516dfaa"
      },
      "execution_count": 26,
      "outputs": [
        {
          "output_type": "execute_result",
          "data": {
            "text/plain": [
              "                tweetid  \\\n",
              "4   1520553588086525952   \n",
              "18  1520553593430024193   \n",
              "\n",
              "                                                                                                                                                                         text  \\\n",
              "4   #russia’s forces have stolen “several hundred thousand tons” of grain in the areas of #ukraine they occupy, ukraine’s deputy agriculture minister says.\\n\\nhttps://t.c...   \n",
              "18  #russian \"killer squad has been linked to vile war crimes against civilians in bucha—and their own severely injured brothers-in-arms\"\\n\\nhttps://t.co/jqwax0dbk2\\n\\n#s...   \n",
              "\n",
              "   first_ht  \n",
              "4    russia  \n",
              "18  russian  "
            ],
            "text/html": [
              "\n",
              "  <div id=\"df-41356a60-89fe-4ce9-82c0-73e8c1813231\">\n",
              "    <div class=\"colab-df-container\">\n",
              "      <div>\n",
              "<style scoped>\n",
              "    .dataframe tbody tr th:only-of-type {\n",
              "        vertical-align: middle;\n",
              "    }\n",
              "\n",
              "    .dataframe tbody tr th {\n",
              "        vertical-align: top;\n",
              "    }\n",
              "\n",
              "    .dataframe thead th {\n",
              "        text-align: right;\n",
              "    }\n",
              "</style>\n",
              "<table border=\"1\" class=\"dataframe\">\n",
              "  <thead>\n",
              "    <tr style=\"text-align: right;\">\n",
              "      <th></th>\n",
              "      <th>tweetid</th>\n",
              "      <th>text</th>\n",
              "      <th>first_ht</th>\n",
              "    </tr>\n",
              "  </thead>\n",
              "  <tbody>\n",
              "    <tr>\n",
              "      <th>4</th>\n",
              "      <td>1520553588086525952</td>\n",
              "      <td>#russia’s forces have stolen “several hundred thousand tons” of grain in the areas of #ukraine they occupy, ukraine’s deputy agriculture minister says.\\n\\nhttps://t.c...</td>\n",
              "      <td>russia</td>\n",
              "    </tr>\n",
              "    <tr>\n",
              "      <th>18</th>\n",
              "      <td>1520553593430024193</td>\n",
              "      <td>#russian \"killer squad has been linked to vile war crimes against civilians in bucha—and their own severely injured brothers-in-arms\"\\n\\nhttps://t.co/jqwax0dbk2\\n\\n#s...</td>\n",
              "      <td>russian</td>\n",
              "    </tr>\n",
              "  </tbody>\n",
              "</table>\n",
              "</div>\n",
              "      <button class=\"colab-df-convert\" onclick=\"convertToInteractive('df-41356a60-89fe-4ce9-82c0-73e8c1813231')\"\n",
              "              title=\"Convert this dataframe to an interactive table.\"\n",
              "              style=\"display:none;\">\n",
              "        \n",
              "  <svg xmlns=\"http://www.w3.org/2000/svg\" height=\"24px\"viewBox=\"0 0 24 24\"\n",
              "       width=\"24px\">\n",
              "    <path d=\"M0 0h24v24H0V0z\" fill=\"none\"/>\n",
              "    <path d=\"M18.56 5.44l.94 2.06.94-2.06 2.06-.94-2.06-.94-.94-2.06-.94 2.06-2.06.94zm-11 1L8.5 8.5l.94-2.06 2.06-.94-2.06-.94L8.5 2.5l-.94 2.06-2.06.94zm10 10l.94 2.06.94-2.06 2.06-.94-2.06-.94-.94-2.06-.94 2.06-2.06.94z\"/><path d=\"M17.41 7.96l-1.37-1.37c-.4-.4-.92-.59-1.43-.59-.52 0-1.04.2-1.43.59L10.3 9.45l-7.72 7.72c-.78.78-.78 2.05 0 2.83L4 21.41c.39.39.9.59 1.41.59.51 0 1.02-.2 1.41-.59l7.78-7.78 2.81-2.81c.8-.78.8-2.07 0-2.86zM5.41 20L4 18.59l7.72-7.72 1.47 1.35L5.41 20z\"/>\n",
              "  </svg>\n",
              "      </button>\n",
              "      \n",
              "  <style>\n",
              "    .colab-df-container {\n",
              "      display:flex;\n",
              "      flex-wrap:wrap;\n",
              "      gap: 12px;\n",
              "    }\n",
              "\n",
              "    .colab-df-convert {\n",
              "      background-color: #E8F0FE;\n",
              "      border: none;\n",
              "      border-radius: 50%;\n",
              "      cursor: pointer;\n",
              "      display: none;\n",
              "      fill: #1967D2;\n",
              "      height: 32px;\n",
              "      padding: 0 0 0 0;\n",
              "      width: 32px;\n",
              "    }\n",
              "\n",
              "    .colab-df-convert:hover {\n",
              "      background-color: #E2EBFA;\n",
              "      box-shadow: 0px 1px 2px rgba(60, 64, 67, 0.3), 0px 1px 3px 1px rgba(60, 64, 67, 0.15);\n",
              "      fill: #174EA6;\n",
              "    }\n",
              "\n",
              "    [theme=dark] .colab-df-convert {\n",
              "      background-color: #3B4455;\n",
              "      fill: #D2E3FC;\n",
              "    }\n",
              "\n",
              "    [theme=dark] .colab-df-convert:hover {\n",
              "      background-color: #434B5C;\n",
              "      box-shadow: 0px 1px 3px 1px rgba(0, 0, 0, 0.15);\n",
              "      filter: drop-shadow(0px 1px 2px rgba(0, 0, 0, 0.3));\n",
              "      fill: #FFFFFF;\n",
              "    }\n",
              "  </style>\n",
              "\n",
              "      <script>\n",
              "        const buttonEl =\n",
              "          document.querySelector('#df-41356a60-89fe-4ce9-82c0-73e8c1813231 button.colab-df-convert');\n",
              "        buttonEl.style.display =\n",
              "          google.colab.kernel.accessAllowed ? 'block' : 'none';\n",
              "\n",
              "        async function convertToInteractive(key) {\n",
              "          const element = document.querySelector('#df-41356a60-89fe-4ce9-82c0-73e8c1813231');\n",
              "          const dataTable =\n",
              "            await google.colab.kernel.invokeFunction('convertToInteractive',\n",
              "                                                     [key], {});\n",
              "          if (!dataTable) return;\n",
              "\n",
              "          const docLinkHtml = 'Like what you see? Visit the ' +\n",
              "            '<a target=\"_blank\" href=https://colab.research.google.com/notebooks/data_table.ipynb>data table notebook</a>'\n",
              "            + ' to learn more about interactive tables.';\n",
              "          element.innerHTML = '';\n",
              "          dataTable['output_type'] = 'display_data';\n",
              "          await google.colab.output.renderOutput(dataTable, element);\n",
              "          const docLink = document.createElement('div');\n",
              "          docLink.innerHTML = docLinkHtml;\n",
              "          element.appendChild(docLink);\n",
              "        }\n",
              "      </script>\n",
              "    </div>\n",
              "  </div>\n",
              "  "
            ]
          },
          "metadata": {},
          "execution_count": 26
        }
      ]
    },
    {
      "cell_type": "code",
      "source": [
        "# Removing urls\n",
        "\n",
        "df['text'] = df['text'].swifter.apply(remove_urls)"
      ],
      "metadata": {
        "id": "6To_ZZn3GL0L",
        "colab": {
          "base_uri": "https://localhost:8080/",
          "height": 49,
          "referenced_widgets": [
            "9da9a571000348d796b49332c9a56503",
            "332a67afc5c44f3086690c572c91a00d",
            "704050a658c84bbaa08e1f9dd3744d12",
            "7f9d3b11ee974b2a87b8b50109923f3c",
            "abcb775ca5d14625aa1f2c69770a0486",
            "9463b6b8f7b342f48a23384e4b33dc12",
            "ad55a3eb6f0c4e49971aa46954a66a32",
            "455dd2c2b71240c586dfb4809c9c202d",
            "2d16285b02994ef3ac0cc6e3698e77e5",
            "5dfc2d0cc7734a979cf829bacf42ecda",
            "78b684a10c3949239331073d1baef568"
          ]
        },
        "outputId": "a179995c-a4c1-45fe-a495-f4b587d7bbe6"
      },
      "execution_count": 27,
      "outputs": [
        {
          "output_type": "display_data",
          "data": {
            "text/plain": [
              "Pandas Apply:   0%|          | 0/784546 [00:00<?, ?it/s]"
            ],
            "application/vnd.jupyter.widget-view+json": {
              "version_major": 2,
              "version_minor": 0,
              "model_id": "9da9a571000348d796b49332c9a56503"
            }
          },
          "metadata": {}
        }
      ]
    },
    {
      "cell_type": "code",
      "source": [
        "# Applying filters on text\n",
        "\n",
        "df['text'] = df['text'].swifter.apply(unescape_stuff)"
      ],
      "metadata": {
        "colab": {
          "base_uri": "https://localhost:8080/",
          "height": 49,
          "referenced_widgets": [
            "560986455cd74203a72dc586e3f4487c",
            "da86e40ac46c49dcb7da50f24ce619a0",
            "61c1db36323040ce96bdad568d3f7945",
            "04d3fea4f5c543cb827c6947f480ba18",
            "1ce2ff9c103f4a6ca68a463386fea96a",
            "aa462ef7d2f0452c88aca998563ec542",
            "f03050c383154906bacfe02d011653f0",
            "9c9c0fd652ab4283a994aa7eb713829a",
            "3459fa14eb0649a182f708aeaea9ae86",
            "9d0e30c1946b4345ab6fe3019b8aee93",
            "8bb0f18ceec54b1fa590a79171bad01b"
          ]
        },
        "id": "PLO8FZ4ZHVkJ",
        "outputId": "baf33b7d-16cb-40a1-b427-666be0fd7495"
      },
      "execution_count": 28,
      "outputs": [
        {
          "output_type": "display_data",
          "data": {
            "text/plain": [
              "Pandas Apply:   0%|          | 0/784546 [00:00<?, ?it/s]"
            ],
            "application/vnd.jupyter.widget-view+json": {
              "version_major": 2,
              "version_minor": 0,
              "model_id": "560986455cd74203a72dc586e3f4487c"
            }
          },
          "metadata": {}
        }
      ]
    },
    {
      "cell_type": "code",
      "source": [
        "df.reset_index(drop=True)\n",
        "\n",
        "# Removing emojis\n",
        "\n",
        "df['text'] = df['text'].swifter.apply(deEmojify)"
      ],
      "metadata": {
        "colab": {
          "base_uri": "https://localhost:8080/",
          "height": 49,
          "referenced_widgets": [
            "a959f0cce8324077bb896eadda2bea66",
            "bfe50332e2814133a697af94c021d884",
            "d298a00522c24b0691d411ac4296cac6",
            "00c84ca032294416bd9aef32d25cf2fb",
            "d433d97abf314a4ab9a6ea483aa19e67",
            "12ac7047e9de4584a6d4004ccd7b6467",
            "898bab2d5a6a48f7ae2a8a009899e026",
            "9fe1f5802fb1439ab2809d7be779a9fd",
            "ffb5ca9f259449d8bc0874f5b26f5e6b",
            "e1f55ab27f644136b5e8a4b2b30c0b94",
            "4595fee133db4c85967c220f9f0e8c06"
          ]
        },
        "id": "tuNDMKAFHh5Y",
        "outputId": "23b7fc1f-ad34-4395-fe47-30b2f77a6d1c"
      },
      "execution_count": 29,
      "outputs": [
        {
          "output_type": "display_data",
          "data": {
            "text/plain": [
              "Pandas Apply:   0%|          | 0/784546 [00:00<?, ?it/s]"
            ],
            "application/vnd.jupyter.widget-view+json": {
              "version_major": 2,
              "version_minor": 0,
              "model_id": "a959f0cce8324077bb896eadda2bea66"
            }
          },
          "metadata": {}
        }
      ]
    },
    {
      "cell_type": "code",
      "source": [
        "# Removing hashtags and tags\n",
        "\n",
        "def removeht(tweet):\n",
        "\n",
        "  tweet1 = re.sub(\"@[A-Za-z0-9_]+\",\"\", tweet)\n",
        "  tweet2 = re.sub(\"#[A-Za-z0-9_]+\",\"\", tweet1)\n",
        "\n",
        "  return (tweet2) \n",
        "\n",
        "df['text'] = df['text'].swifter.apply(removeht)\n",
        "print(df['text'][:5])"
      ],
      "metadata": {
        "colab": {
          "base_uri": "https://localhost:8080/",
          "height": 153,
          "referenced_widgets": [
            "ec6383232e034b308dad5701276fd504",
            "77d96e0361514debac3c35ad35cff2e1",
            "ccd0c9baf6de4f4797a1c84e3cdaf35d",
            "e6663bb1c7b44868ae3aa7d2a3097069",
            "6aa22d4998a9456f959899805afde597",
            "17041eef64744072957514813cfd437c",
            "e0313f1b00134df2983705953606dfb7",
            "0e01ca91dfc946f7ada70fc88631294e",
            "8dc81e6b67034536b196e63ae04e66b2",
            "08d7fc037cbb4f78beff6ec4aa09d8c1",
            "be9c9900768d4db6b9e6555ecf602de6"
          ]
        },
        "outputId": "a7e98e1b-5648-459c-f42e-be70a5979605",
        "id": "OE0zF-1nNJLY"
      },
      "execution_count": 30,
      "outputs": [
        {
          "output_type": "display_data",
          "data": {
            "text/plain": [
              "Pandas Apply:   0%|          | 0/784546 [00:00<?, ?it/s]"
            ],
            "application/vnd.jupyter.widget-view+json": {
              "version_major": 2,
              "version_minor": 0,
              "model_id": "ec6383232e034b308dad5701276fd504"
            }
          },
          "metadata": {}
        },
        {
          "output_type": "stream",
          "name": "stdout",
          "text": [
            "4                                  ’s forces have stolen “several hundred thousand tons” of grain in the areas of  they occupy, ukraine’s deputy agriculture minister says.\\n\\n\n",
            "18                                     \"killer squad has been linked to vile war crimes against civilians in bucha—and their own severely injured brothers-in-arms\"\\n\\n\\n\\n    \n",
            "20    cain is a prominent guy. in all his habits, facial expressions.\\nour shelter needs your help!\\nraising funds food for animals.\\npaypal: dogandcat.helper.com\\n\\n\\n    ...\n",
            "21                                                                                                         |  soldiers in trench with  made panzerfaust-3 anti-tank rocket.\\n\\n\n",
            "22    the ‘ukrainisation’ of opinion is causing problems to the german coalition. partnership with  has been a part of the german policy for decades. they need to create th...\n",
            "Name: text, dtype: object\n"
          ]
        }
      ]
    },
    {
      "cell_type": "code",
      "source": [
        "# Function for removing stop words\n",
        "\n",
        "import spacy\n",
        "import nltk\n",
        "from nltk.corpus import stopwords\n",
        "from nltk.tokenize import word_tokenize\n",
        "sp = spacy.load('en_core_web_sm')\n",
        "\n",
        "cachedStopWords = sp.Defaults.stop_words\n",
        "cachedStopWords = [x.lower() for x in cachedStopWords]\n",
        "\n",
        "def remove_stopwords(x):\n",
        "    \n",
        "    meaningful_words = []\n",
        "    my_list = x\n",
        "    \n",
        "    tokenized_my_list = word_tokenize(my_list) \n",
        "    meaningful_words = [w for w in tokenized_my_list if not w in cachedStopWords]\n",
        "        \n",
        "    return \" \".join(meaningful_words)"
      ],
      "metadata": {
        "id": "2FYXF8yBJ6mC"
      },
      "execution_count": 31,
      "outputs": []
    },
    {
      "cell_type": "code",
      "source": [
        "# Removing stop words\n",
        "\n",
        "df['text'] = df['text'].swifter.apply(remove_stopwords)"
      ],
      "metadata": {
        "colab": {
          "base_uri": "https://localhost:8080/",
          "height": 49,
          "referenced_widgets": [
            "cf79a166f7bd4b73a547ace31400aa2f",
            "b8579dfeeaa94b53a5eb5e219948b2a4",
            "4cbf6ff62747464599d8e830c44cb7ef",
            "5301419fb0e64061ba0aae137f71d5a3",
            "c35228a9f05743b08e7f4756489ac6a4",
            "c8906ba267674f599541bcfb8ce54989",
            "db68111fda614e668d00e4813276f46a",
            "5db2b41a18ba43509dc8a2af2bbb8d0a",
            "6bf102586b4145cbb59c0d9ec24cb35e",
            "6d645d08dced4303b270d06de532220a",
            "ecffc0c948d14643a23338f7ec4da8c2"
          ]
        },
        "id": "0CqfoxWRKIeU",
        "outputId": "b23b9e5a-df76-4e96-e398-aeb37eb77d25"
      },
      "execution_count": 32,
      "outputs": [
        {
          "output_type": "display_data",
          "data": {
            "text/plain": [
              "Pandas Apply:   0%|          | 0/784546 [00:00<?, ?it/s]"
            ],
            "application/vnd.jupyter.widget-view+json": {
              "version_major": 2,
              "version_minor": 0,
              "model_id": "cf79a166f7bd4b73a547ace31400aa2f"
            }
          },
          "metadata": {}
        }
      ]
    },
    {
      "cell_type": "code",
      "source": [
        "# Removing words with len < 3\n",
        "\n",
        "df['text'] = df['text'].str.findall('\\w{2,}').str.join(' ')"
      ],
      "metadata": {
        "id": "QTOnnz-tN_cP"
      },
      "execution_count": 33,
      "outputs": []
    },
    {
      "cell_type": "code",
      "source": [
        "print(df['text'][:5])"
      ],
      "metadata": {
        "colab": {
          "base_uri": "https://localhost:8080/"
        },
        "id": "HjxL7Y2IMdIQ",
        "outputId": "897add2a-7259-4347-894d-4c57aa80b127"
      },
      "execution_count": 34,
      "outputs": [
        {
          "output_type": "stream",
          "name": "stdout",
          "text": [
            "4                                                            forces stolen thousand tons grain areas occupy ukraine deputy agriculture minister says\n",
            "18                                                         killer squad linked vile war crimes civilians bucha and severely injured brothers in arms\n",
            "20                            cain prominent guy habits facial expressions shelter needs help raising funds food animals paypal dogandcat helper com\n",
            "21                                                                                                      soldiers trench panzerfaust anti tank rocket\n",
            "22    ukrainisation opinion causing problems german coalition partnership german policy decades need create nss quickly announce steps cogently says\n",
            "Name: text, dtype: object\n"
          ]
        }
      ]
    },
    {
      "cell_type": "markdown",
      "source": [
        "# Preparing the data for the model"
      ],
      "metadata": {
        "id": "61bsrbDDgoKv"
      }
    },
    {
      "cell_type": "code",
      "source": [
        "# Partitioning the dataset\n",
        "\n",
        "def get_dataset_partitions_pd(df, train_split=0.8, val_split=0.1, test_split=0.1):\n",
        "    df = df.sample(frac=1).reset_index(drop=True)\n",
        "    assert (train_split + test_split + val_split) == 1\n",
        "    \n",
        "    assert val_split == test_split \n",
        "\n",
        "    df_sample = df.sample(frac=1, random_state=12)\n",
        "    indices_or_sections = [int(train_split * len(df)), int((1 - test_split) * len(df))]\n",
        "    \n",
        "    train_ds, val_ds, test_ds = np.split(df_sample, indices_or_sections)\n",
        "    \n",
        "    return train_ds, val_ds, test_ds\n",
        "\n",
        "(tr,va,ts) = get_dataset_partitions_pd(df)\n",
        "\n",
        "print (\"Dataset length: \" + str(len(df)))\n",
        "print (\"Training set length: \" + str(len(tr)))\n",
        "print (\"Validation set length: \" + str(len(va)))\n",
        "print (\"Test set length: \" + str(len(ts)))"
      ],
      "metadata": {
        "id": "_Cd2rHQjsZoh",
        "colab": {
          "base_uri": "https://localhost:8080/"
        },
        "outputId": "83d9a700-7351-4f67-9dcd-34025efae557"
      },
      "execution_count": 35,
      "outputs": [
        {
          "output_type": "stream",
          "name": "stdout",
          "text": [
            "Dataset length: 784546\n",
            "Training set length: 627636\n",
            "Validation set length: 78455\n",
            "Test set length: 78455\n"
          ]
        }
      ]
    },
    {
      "cell_type": "code",
      "source": [
        "# Creating variables for training and validating data and labels\n",
        "\n",
        "x_train = tr[\"text\"]\n",
        "x_val = va[\"text\"]  \n",
        "\n",
        "y_train = tr[\"first_ht\"]\n",
        "y_val = va[\"first_ht\"]  "
      ],
      "metadata": {
        "id": "Ojk_GybGtDB9"
      },
      "execution_count": 36,
      "outputs": []
    },
    {
      "cell_type": "code",
      "source": [
        "# Creating list of the 20 most popular hashtags\n",
        "\n",
        "list_hashtags = np.sort(np.array(list(set(y_train))))\n",
        "print(list_hashtags)"
      ],
      "metadata": {
        "colab": {
          "base_uri": "https://localhost:8080/"
        },
        "id": "uWHm4w4GySKz",
        "outputId": "95b46a3e-7f4e-4c5e-bb6b-557ec9e3a3ba"
      },
      "execution_count": 37,
      "outputs": [
        {
          "output_type": "stream",
          "name": "stdout",
          "text": [
            "['azovstal' 'biden' 'business' 'eurovision' 'freeshipping' 'hatinc'\n",
            " 'mariupol' 'nato' 'news' 'putin' 'russia' 'russian' 'scotus'\n",
            " 'slavaukraini' 'standwithukraine' 'ukraine' 'ukrainerussiawar'\n",
            " 'ukrainewar' 'ukrainian' 'usa']\n"
          ]
        }
      ]
    },
    {
      "cell_type": "code",
      "source": [
        "# Encoding the hashtags as I can't have them as strings\n",
        "\n",
        "y_train_ohe = pd.get_dummies(y_train)\n",
        "y_val_ohe = pd.get_dummies(y_val)\n",
        "#print(y_val_ohe)"
      ],
      "metadata": {
        "id": "mwA74xu81c6E"
      },
      "execution_count": 38,
      "outputs": []
    },
    {
      "cell_type": "markdown",
      "source": [
        "# The model"
      ],
      "metadata": {
        "id": "2G6RWMPrhUpY"
      }
    },
    {
      "cell_type": "code",
      "source": [
        "from tensorflow.keras.layers import TextVectorization\n",
        "import string\n",
        "import re\n",
        "\n",
        "# Model constants\n",
        "\n",
        "max_features = 20000\n",
        "embedding_dim = 128\n",
        "sequence_length = 60\n",
        "\n",
        "# Using this layer to normalize, split, and map strings to integers\n",
        "\n",
        "vectorize_layer = TextVectorization(\n",
        "    standardize=None,\n",
        "    max_tokens=max_features,\n",
        "    output_mode=\"int\",\n",
        "    output_sequence_length=sequence_length,\n",
        ")"
      ],
      "metadata": {
        "id": "4Ji2lZOqwcW2"
      },
      "execution_count": 39,
      "outputs": []
    },
    {
      "cell_type": "code",
      "source": [
        "vectorize_layer.adapt(x_train)"
      ],
      "metadata": {
        "id": "qjPPLRMJxGjX"
      },
      "execution_count": 40,
      "outputs": []
    },
    {
      "cell_type": "code",
      "source": [
        "import tensorflow as tf \n",
        "from tensorflow.keras import layers\n",
        "\n",
        "text_input = tf.keras.Input(shape=(1,), dtype=tf.string, name='text')\n",
        "x = vectorize_layer(text_input)\n",
        "\n",
        "x = layers.Embedding(max_features, embedding_dim)(x)\n",
        "\n",
        "x = layers.Conv1D(128, 7, padding=\"valid\", activation=\"relu\", strides=2)(x)\n",
        "\n",
        "x = layers.Conv1D(128, 7, padding=\"valid\", activation=\"relu\", strides=2)(x)\n",
        "\n",
        "x = layers.GlobalMaxPooling1D()(x)\n",
        "\n",
        "x = layers.Dropout(0.6)(x)\n",
        "\n",
        "x = layers.Dense(128, activation=\"relu\")(x)\n",
        "\n",
        "x = layers.Dropout(0.6)(x)\n",
        "\n",
        "predictions = layers.Dense(20, activation=\"sigmoid\", name=\"predictions\")(x)\n",
        "\n",
        "model = tf.keras.Model(text_input, predictions)\n",
        "\n",
        "model.compile(loss=\"binary_crossentropy\", optimizer=tf.keras.optimizers.Adam(learning_rate=0.00003) ,metrics=[\"accuracy\"])\n",
        "\n",
        "model.summary()"
      ],
      "metadata": {
        "colab": {
          "base_uri": "https://localhost:8080/"
        },
        "id": "gSFWFd7GxfOA",
        "outputId": "c257ae81-024c-42af-ef52-0d7c9e57d30a"
      },
      "execution_count": 41,
      "outputs": [
        {
          "output_type": "stream",
          "name": "stdout",
          "text": [
            "Model: \"model\"\n",
            "_________________________________________________________________\n",
            " Layer (type)                Output Shape              Param #   \n",
            "=================================================================\n",
            " text (InputLayer)           [(None, 1)]               0         \n",
            "                                                                 \n",
            " text_vectorization (TextVec  (None, 60)               0         \n",
            " torization)                                                     \n",
            "                                                                 \n",
            " embedding (Embedding)       (None, 60, 128)           2560000   \n",
            "                                                                 \n",
            " conv1d (Conv1D)             (None, 27, 128)           114816    \n",
            "                                                                 \n",
            " conv1d_1 (Conv1D)           (None, 11, 128)           114816    \n",
            "                                                                 \n",
            " global_max_pooling1d (Globa  (None, 128)              0         \n",
            " lMaxPooling1D)                                                  \n",
            "                                                                 \n",
            " dropout (Dropout)           (None, 128)               0         \n",
            "                                                                 \n",
            " dense (Dense)               (None, 128)               16512     \n",
            "                                                                 \n",
            " dropout_1 (Dropout)         (None, 128)               0         \n",
            "                                                                 \n",
            " predictions (Dense)         (None, 20)                2580      \n",
            "                                                                 \n",
            "=================================================================\n",
            "Total params: 2,808,724\n",
            "Trainable params: 2,808,724\n",
            "Non-trainable params: 0\n",
            "_________________________________________________________________\n"
          ]
        }
      ]
    },
    {
      "cell_type": "markdown",
      "source": [
        "# Training and validation"
      ],
      "metadata": {
        "id": "BjodtFVfh9hX"
      }
    },
    {
      "cell_type": "code",
      "source": [
        "epochs = 15\n",
        "\n",
        "# Fit the model using the train and test datasets.\n",
        "model.fit(x_train, y_train_ohe, validation_data=(x_val,y_val_ohe), epochs=epochs)"
      ],
      "metadata": {
        "colab": {
          "base_uri": "https://localhost:8080/"
        },
        "id": "vL_6r-B_ytVX",
        "outputId": "e0046739-82a9-49dd-e6cd-164983674eef"
      },
      "execution_count": 42,
      "outputs": [
        {
          "output_type": "stream",
          "name": "stdout",
          "text": [
            "Epoch 1/15\n",
            "19614/19614 [==============================] - 188s 9ms/step - loss: 0.1958 - accuracy: 0.2448 - val_loss: 0.1504 - val_accuracy: 0.3611\n",
            "Epoch 2/15\n",
            "19614/19614 [==============================] - 176s 9ms/step - loss: 0.1508 - accuracy: 0.4044 - val_loss: 0.1310 - val_accuracy: 0.4711\n",
            "Epoch 3/15\n",
            "19614/19614 [==============================] - 176s 9ms/step - loss: 0.1352 - accuracy: 0.4682 - val_loss: 0.1240 - val_accuracy: 0.4901\n",
            "Epoch 4/15\n",
            "19614/19614 [==============================] - 177s 9ms/step - loss: 0.1273 - accuracy: 0.4891 - val_loss: 0.1188 - val_accuracy: 0.5004\n",
            "Epoch 5/15\n",
            "19614/19614 [==============================] - 175s 9ms/step - loss: 0.1218 - accuracy: 0.5032 - val_loss: 0.1153 - val_accuracy: 0.5145\n",
            "Epoch 6/15\n",
            "19614/19614 [==============================] - 176s 9ms/step - loss: 0.1177 - accuracy: 0.5186 - val_loss: 0.1127 - val_accuracy: 0.5275\n",
            "Epoch 7/15\n",
            "19614/19614 [==============================] - 174s 9ms/step - loss: 0.1143 - accuracy: 0.5330 - val_loss: 0.1109 - val_accuracy: 0.5396\n",
            "Epoch 8/15\n",
            "19614/19614 [==============================] - 175s 9ms/step - loss: 0.1115 - accuracy: 0.5466 - val_loss: 0.1097 - val_accuracy: 0.5462\n",
            "Epoch 9/15\n",
            "19614/19614 [==============================] - 173s 9ms/step - loss: 0.1090 - accuracy: 0.5577 - val_loss: 0.1090 - val_accuracy: 0.5511\n",
            "Epoch 10/15\n",
            "19614/19614 [==============================] - 173s 9ms/step - loss: 0.1068 - accuracy: 0.5677 - val_loss: 0.1086 - val_accuracy: 0.5530\n",
            "Epoch 11/15\n",
            "19614/19614 [==============================] - 171s 9ms/step - loss: 0.1047 - accuracy: 0.5770 - val_loss: 0.1084 - val_accuracy: 0.5553\n",
            "Epoch 12/15\n",
            "19614/19614 [==============================] - 174s 9ms/step - loss: 0.1029 - accuracy: 0.5850 - val_loss: 0.1086 - val_accuracy: 0.5561\n",
            "Epoch 13/15\n",
            "19614/19614 [==============================] - 173s 9ms/step - loss: 0.1011 - accuracy: 0.5930 - val_loss: 0.1088 - val_accuracy: 0.5577\n",
            "Epoch 14/15\n",
            "19614/19614 [==============================] - 174s 9ms/step - loss: 0.0992 - accuracy: 0.6009 - val_loss: 0.1091 - val_accuracy: 0.5586\n",
            "Epoch 15/15\n",
            "19614/19614 [==============================] - 172s 9ms/step - loss: 0.0977 - accuracy: 0.6069 - val_loss: 0.1097 - val_accuracy: 0.5577\n"
          ]
        },
        {
          "output_type": "execute_result",
          "data": {
            "text/plain": [
              "<keras.callbacks.History at 0x7fbe7f252590>"
            ]
          },
          "metadata": {},
          "execution_count": 42
        }
      ]
    },
    {
      "cell_type": "markdown",
      "source": [
        "# Testing"
      ],
      "metadata": {
        "id": "6KZ6YDXriFHH"
      }
    },
    {
      "cell_type": "code",
      "source": [
        "x_test = ts[\"text\"]  \n",
        "y_test = ts[\"first_ht\"]\n",
        "y_test_ohe = pd.get_dummies(y_test)\n",
        "\n",
        "model.evaluate(x_test, y_test_ohe)"
      ],
      "metadata": {
        "id": "OkzUZy0awVPj",
        "colab": {
          "base_uri": "https://localhost:8080/"
        },
        "outputId": "03cc2062-7229-466c-f207-20f2495cc215"
      },
      "execution_count": 43,
      "outputs": [
        {
          "output_type": "stream",
          "name": "stdout",
          "text": [
            "2452/2452 [==============================] - 12s 5ms/step - loss: 0.1099 - accuracy: 0.5567\n"
          ]
        },
        {
          "output_type": "execute_result",
          "data": {
            "text/plain": [
              "[0.10994822531938553, 0.5567268133163452]"
            ]
          },
          "metadata": {},
          "execution_count": 43
        }
      ]
    },
    {
      "cell_type": "markdown",
      "source": [
        "# Applying the model and seeing the results"
      ],
      "metadata": {
        "id": "mov69umAiRdW"
      }
    },
    {
      "cell_type": "markdown",
      "source": [
        "Randomly taking 10 tweets from the test set and printing out the top 3 predicted hashtags for each one"
      ],
      "metadata": {
        "id": "pzzhl4W_ihQ1"
      }
    },
    {
      "cell_type": "code",
      "source": [
        "np.set_printoptions(formatter={'float': lambda x: \"{0:0.3f}\".format(x)})\n",
        "\n",
        "ts_res = ts.sample(n = 10).sort_values(by=['tweetid'])\n",
        "tweetid_list = ts_res[\"tweetid\"].values.tolist()\n",
        "#print(ts_res)\n",
        "x_ts_res = ts_res[\"text\"]\n",
        "y_ts_res = ts_res[\"first_ht\"]\n",
        "\n",
        "n = 3\n",
        "\n",
        "y_preds = model.predict(x_ts_res)\n",
        "#print(y_preds)\n",
        "\n",
        "ord_preds = np.argsort(-y_preds, axis=1)[:,0:n]\n",
        "#print(ord_preds)\n",
        "\n",
        "ts_res_dict =  ts_res.set_index('tweetid').T.to_dict('list')\n",
        "#print(ts_res_dict)\n",
        "\n",
        "j=0\n",
        "for y in y_preds:\n",
        "  print('\\033[1m' + \"Original tweet: \" + '\\033[0m' + str(df_dict[tweetid_list[j]][0])) \n",
        "  print('\\n')\n",
        "  print('\\033[1m' + \"First hashtag: \" + '\\033[0m' + str(df_dict[tweetid_list[j]][1])) \n",
        "  print('\\n')\n",
        "  print('\\033[1m' + \"Predicted hashtags: \" + '\\033[0m' + list_hashtags[int(ord_preds[j][0])] + \", \" + list_hashtags[int(ord_preds[j][1])] + \", \" + list_hashtags[int(ord_preds[j][2])]  )  \n",
        "  print()\n",
        "  print(\"_______________________________\")\n",
        "  print()\n",
        "  j = j+1"
      ],
      "metadata": {
        "id": "LVeqhBAw0Dj9",
        "colab": {
          "base_uri": "https://localhost:8080/"
        },
        "outputId": "caf6e73e-69a8-4412-b3bf-9cf5e16c329e"
      },
      "execution_count": 79,
      "outputs": [
        {
          "output_type": "stream",
          "name": "stdout",
          "text": [
            "\u001b[1mOriginal tweet: \u001b[0m@redformans31 Love it.  This guy is making Putin look like the horrible tiny monster he is.  #SlavaUkraini\n",
            "\n",
            "\n",
            "\u001b[1mFirst hashtag: \u001b[0mslavaukraini\n",
            "\n",
            "\n",
            "\u001b[1mPredicted hashtags: \u001b[0mukraine, slavaukraini, standwithukraine\n",
            "\n",
            "_______________________________\n",
            "\n",
            "\u001b[1mOriginal tweet: \u001b[0m@on_scotland the real nazis in Ukraine are the Russian invaders.... #StandWIthUkraine\n",
            "\n",
            "\n",
            "\u001b[1mFirst hashtag: \u001b[0mstandwithukraine\n",
            "\n",
            "\n",
            "\u001b[1mPredicted hashtags: \u001b[0mstandwithukraine, slavaukraini, ukraine\n",
            "\n",
            "_______________________________\n",
            "\n",
            "\u001b[1mOriginal tweet: \u001b[0mA good read to understand what we are in for from #SCOTUS\n",
            "#WomensRightsAreHumanRights https://t.co/VxjlfiHNxM\n",
            "\n",
            "\n",
            "\u001b[1mFirst hashtag: \u001b[0mscotus\n",
            "\n",
            "\n",
            "\u001b[1mPredicted hashtags: \u001b[0mukraine, standwithukraine, russia\n",
            "\n",
            "_______________________________\n",
            "\n",
            "\u001b[1mOriginal tweet: \u001b[0m@Roman_Baber @JustinTrudeau Here is a 'justification' in a pic sourced recently from #Russia's MOD. Genocide is an international crime, Mr. President, @POTUS. Genocide by genetic weaponry is a precedent. And the Canadian government supports it in #Ukraine. @CanadianPM https://t.co/4elXJNYUsL\n",
            "\n",
            "\n",
            "\u001b[1mFirst hashtag: \u001b[0mrussia\n",
            "\n",
            "\n",
            "\u001b[1mPredicted hashtags: \u001b[0mrussia, ukraine, putin\n",
            "\n",
            "_______________________________\n",
            "\n",
            "\u001b[1mOriginal tweet: \u001b[0m\" The public knows that to be true. The public’s representatives in Congress knew it to be true. Only this Court— somehow—does not. \"  (regarding a public poll on campaign regulation)  The 6-3 #SCOTUS is a result of minority rule. So yeah.\n",
            "\n",
            "\n",
            "\u001b[1mFirst hashtag: \u001b[0mscotus\n",
            "\n",
            "\n",
            "\u001b[1mPredicted hashtags: \u001b[0mscotus, usa, biden\n",
            "\n",
            "_______________________________\n",
            "\n",
            "\u001b[1mOriginal tweet: \u001b[0mTop 10 Largest Banks in the World https://t.co/2BKTiAdJP3 #business #companies\n",
            "\n",
            "\n",
            "\u001b[1mFirst hashtag: \u001b[0mbusiness\n",
            "\n",
            "\n",
            "\u001b[1mPredicted hashtags: \u001b[0mbusiness, news, usa\n",
            "\n",
            "_______________________________\n",
            "\n",
            "\u001b[1mOriginal tweet: \u001b[0mRussia to deploy 12 military units in country's west in response to NATO expansion\n",
            "https://t.co/VHdhkyVdEe\n",
            "#Russia #NATO https://t.co/hUwpYFIbkQ\n",
            "\n",
            "\n",
            "\u001b[1mFirst hashtag: \u001b[0mrussia\n",
            "\n",
            "\n",
            "\u001b[1mPredicted hashtags: \u001b[0mnato, russia, ukraine\n",
            "\n",
            "_______________________________\n",
            "\n",
            "\u001b[1mOriginal tweet: \u001b[0mFTM, ETC Lead Crypto Gainers to Start the Week – Market Updates Bitcoin News https://t.co/LVWshxNdyZ #USA #US #UnitedStates #Sweden #Swiss #Europe #Euro #CaymanIsland #Gibraltar #England #Jordan #Oman #bahrain #Kuwait #canada https://t.co/OjF4vLoaBT\n",
            "\n",
            "\n",
            "\u001b[1mFirst hashtag: \u001b[0musa\n",
            "\n",
            "\n",
            "\u001b[1mPredicted hashtags: \u001b[0musa, biden, news\n",
            "\n",
            "_______________________________\n",
            "\n",
            "\u001b[1mOriginal tweet: \u001b[0m[Looks like #Russia is working on TWO traps\n",
            "1. The inner one that needs 25km/16 miles to cut off #Severodonetsk\n",
            "2. The outer one that needs about 50km/31 miles to cut off ALL of the remaining parts of #Luhansk #Oblast (district/region)\n",
            "Plus, of course, any random bits undefended]\n",
            "\n",
            "\n",
            "\u001b[1mFirst hashtag: \u001b[0mrussia\n",
            "\n",
            "\n",
            "\u001b[1mPredicted hashtags: \u001b[0mrussia, ukraine, putin\n",
            "\n",
            "_______________________________\n",
            "\n",
            "\u001b[1mOriginal tweet: \u001b[0m#Russia is now hammering East #Ukraine with huge forces. \n",
            "\n",
            "The West is scrabbling for solutions just as it was when #Hitler went after #Czechoslovakia before #WW2.\n",
            "\n",
            "Maybe 3000 #Ukraine soldiers are being killed per month.\n",
            "\n",
            "The battle is now very concentrated for attrition.\n",
            "\n",
            "\n",
            "\u001b[1mFirst hashtag: \u001b[0mrussia\n",
            "\n",
            "\n",
            "\u001b[1mPredicted hashtags: \u001b[0mrussian, ukraine, russia\n",
            "\n",
            "_______________________________\n",
            "\n"
          ]
        }
      ]
    }
  ]
}